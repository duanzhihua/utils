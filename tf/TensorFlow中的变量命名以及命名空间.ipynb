{
 "cells": [
  {
   "cell_type": "markdown",
   "metadata": {},
   "source": [
    "[TensorFlow中的变量命名以及命名空间](https://www.cnblogs.com/salan668/p/6994928.html)  \n",
    "在Tensorflow中, 为了区别不同的变量(例如TensorBoard显示中), 会需要命名空间对不同的变量进行命名. 其中常用的两个函数为: tf.variable_scope, tf.name_scope.\n",
    "\n",
    "## 定义变量\n",
    "\n",
    "* tf.variable_scope(name_or_scope,……)  \n",
    "variable_scope会影响到变量命名。  \n",
    "A context manager for defining ops that creates variables (layers).\n",
    "This context manager validates that the (optional) `values` are from the same graph, ensures that graph is the default graph, and pushes a **name scope** and a **variable scope**.\n",
    "If `name_or_scope` is not None, it is used as is. If `name_or_scope` is None, then `default_name` is used.  In that case, if the same name has been\n",
    "previously used in the same scope, it will be made unique by **appending `_N`** to it.\n",
    "Variable scope allows you to create new variables and to share already created ones while providing checks to not create or share by accident. For details,see the @{$variables$Variable Scope How To}, here we present only a few basic examples.\n",
    "\n",
    "* tf.name_scope(name, default_name=None, values=None)\n",
    "name_scope不会影响到变量命名。  \n",
    "A context manager for use when defining a Python op.\n",
    "This context manager validates that the given `values` are from the\n",
    "same graph, makes that graph the default graph, and pushes a\n",
    "name scope in that graph (see @{tf.Graph.name_scope} for more details on that).\n",
    "* tf.get_variable(name……)\n",
    "Gets an existing variable with these parameters or create a new one.\n",
    "This function prefixes the name with the current variable scope\n",
    "and **performs reuse checks**.如果reuse不为True时，说明变量不允许重用，那么当调用get_variable时，如果同名变量(如果同名变量也是通过get_variable生成的话)已经存在，那么就会报错\n",
    ">ValueError: Variable foo/bar/v already exists, disallowed. Did you mean to set reuse=True or reuse=tf.AUTO_REUSE in VarScope? Originally defined at:"
   ]
  },
  {
   "cell_type": "code",
   "execution_count": 8,
   "metadata": {},
   "outputs": [],
   "source": [
    "import tensorflow as tf"
   ]
  },
  {
   "cell_type": "markdown",
   "metadata": {},
   "source": [
    "#### 变量定义\n",
    "* tf.Variable定义变量是不会进行reuse check，每次调用都会生成新的变量   \n",
    "* tf.get_variable会进行reuse check。每次调用前会检查是否用tf.get_variable定义过同名变量，如果没有，就生成新变量；如果已经有同名变量，就进行reuse check，如果为True，直接使用该变量；如果reuse不为True，报错！"
   ]
  },
  {
   "cell_type": "code",
   "execution_count": 25,
   "metadata": {},
   "outputs": [
    {
     "data": {
      "text/plain": [
       "'X3:0'"
      ]
     },
     "execution_count": 25,
     "metadata": {},
     "output_type": "execute_result"
    }
   ],
   "source": [
    "x = tf.Variable([1,2], name='X3')\n",
    "x.name"
   ]
  },
  {
   "cell_type": "code",
   "execution_count": 26,
   "metadata": {},
   "outputs": [
    {
     "data": {
      "text/plain": [
       "'X3_1:0'"
      ]
     },
     "execution_count": 26,
     "metadata": {},
     "output_type": "execute_result"
    }
   ],
   "source": [
    "x1 = tf.get_variable(name='X3', shape=[1,2])\n",
    "x1.name"
   ]
  },
  {
   "cell_type": "code",
   "execution_count": 18,
   "metadata": {},
   "outputs": [
    {
     "data": {
      "text/plain": [
       "False"
      ]
     },
     "execution_count": 18,
     "metadata": {},
     "output_type": "execute_result"
    }
   ],
   "source": [
    "x == x1"
   ]
  },
  {
   "cell_type": "code",
   "execution_count": 2,
   "metadata": {},
   "outputs": [
    {
     "name": "stdout",
     "output_type": "stream",
     "text": [
      "foo/bar/v:0\n"
     ]
    }
   ],
   "source": [
    "with tf.variable_scope(\"foo\"):\n",
    "    with tf.variable_scope(\"bar\"):\n",
    "        v = tf.get_variable(\"v\", [1])\n",
    "        assert v.name == \"foo/bar/v:0\"\n",
    "print(v.name)"
   ]
  },
  {
   "cell_type": "code",
   "execution_count": 29,
   "metadata": {},
   "outputs": [
    {
     "data": {
      "text/plain": [
       "True"
      ]
     },
     "execution_count": 29,
     "metadata": {},
     "output_type": "execute_result"
    }
   ],
   "source": [
    "def foo():\n",
    "    with tf.variable_scope(\"foo\", reuse=tf.AUTO_REUSE):\n",
    "        v = tf.get_variable(\"v\", [1])\n",
    "    return v\n",
    "v1 = foo()  # Creates v.\n",
    "v2 = foo()  # Gets the same, existing v.\n",
    "v1 == v2"
   ]
  },
  {
   "cell_type": "code",
   "execution_count": 31,
   "metadata": {},
   "outputs": [
    {
     "name": "stdout",
     "output_type": "stream",
     "text": [
      "foo/bar1:0\n"
     ]
    }
   ],
   "source": [
    "with tf.variable_scope(\"foo\"):\n",
    "    a = tf.get_variable(\"bar1\", [1])\n",
    "print(a.name)"
   ]
  },
  {
   "cell_type": "code",
   "execution_count": 3,
   "metadata": {},
   "outputs": [
    {
     "name": "stdout",
     "output_type": "stream",
     "text": [
      "bar/bar:0\n"
     ]
    }
   ],
   "source": [
    "with tf.variable_scope(\"bar\"):\n",
    "    b = tf.get_variable(\"bar\", [1])\n",
    "print(b.name)"
   ]
  },
  {
   "cell_type": "code",
   "execution_count": 33,
   "metadata": {},
   "outputs": [
    {
     "name": "stdout",
     "output_type": "stream",
     "text": [
      "bar1:0\n"
     ]
    }
   ],
   "source": [
    "with tf.name_scope(\"a\"):\n",
    "    a = tf.get_variable(\"bar1\", [1])\n",
    "    print(a.name)"
   ]
  }
 ],
 "metadata": {
  "kernelspec": {
   "display_name": "Python 3",
   "language": "python",
   "name": "python3"
  },
  "language_info": {
   "codemirror_mode": {
    "name": "ipython",
    "version": 3
   },
   "file_extension": ".py",
   "mimetype": "text/x-python",
   "name": "python",
   "nbconvert_exporter": "python",
   "pygments_lexer": "ipython3",
   "version": "3.6.4"
  }
 },
 "nbformat": 4,
 "nbformat_minor": 2
}
