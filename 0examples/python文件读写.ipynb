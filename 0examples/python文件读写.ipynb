{
 "cells": [
  {
   "cell_type": "code",
   "execution_count": null,
   "metadata": {},
   "outputs": [],
   "source": [
    "#写SQL脚本\n",
    "with open('all.sql','w') as f:\n",
    "    f.writelines(['@{}\\n'.format(os.path.join('D:\\\\Desktop\\\\产品\\\\大兴\\\\cpz_ge\\\\new',i)) for i in os.listdir('D:\\\\Desktop\\\\产品\\\\大兴\\\\cpz_ge\\\\new')])"
   ]
  },
  {
   "cell_type": "code",
   "execution_count": 1,
   "metadata": {},
   "outputs": [],
   "source": [
    "#键盘输入\n",
    "str = input(\"Please enter:\");\n",
    "print (\"你输入的内容是: \", str)\n",
    "#打开与关闭文件\n",
    "# 打开一个文件\n",
    "fo = open(\"foo.txt\", \"a\")\n",
    "print (\"文件名: \", fo.name)\n",
    "print (\"是否已关闭 : \", fo.closed)\n",
    "print (\"访问模式 : \", fo.mode)\n",
    "fo.write( \"1www.runoob.com!\\nVery good site!\\n\");\n",
    "fo.close()\n",
    "文件名:  foo.txt\n",
    "是否已关闭 :  False\n",
    "访问模式 :  a\n",
    "# 打开一个文件\n",
    "fo = open(\"foo.txt\", \"r+\")\n",
    "str = fo.read(10);\n",
    "print (\"读取的字符串是 : \", str)\n",
    "# 关闭打开的文件\n",
    "fo.close()\n",
    "\n",
    "# 打开一个文件\n",
    "fo = open(\"foo.txt\", \"r+\")\n",
    "str = fo.read(10);\n",
    " \n",
    "# 查找当前位置\n",
    "position = fo.tell();\n",
    "print (\"当前文件位置 : \", position)\n",
    " \n",
    "# 把指针再次重新定位到文件开头\n",
    "position = fo.seek(0, 0);\n",
    "str = fo.read(10);\n",
    "print (\"重新读取字符串 : \", str)\n",
    "# 关闭打开的文件\n",
    "fo.close()\n",
    "\n",
    "f = open(\"ae.txt\",\"r\")\n",
    "s = f.readlines()"
   ]
  }
 ],
 "metadata": {
  "kernelspec": {
   "display_name": "Python 3",
   "language": "python",
   "name": "python3"
  },
  "language_info": {
   "codemirror_mode": {
    "name": "ipython",
    "version": 3
   },
   "file_extension": ".py",
   "mimetype": "text/x-python",
   "name": "python",
   "nbconvert_exporter": "python",
   "pygments_lexer": "ipython3",
   "version": "3.6.5"
  }
 },
 "nbformat": 4,
 "nbformat_minor": 2
}
