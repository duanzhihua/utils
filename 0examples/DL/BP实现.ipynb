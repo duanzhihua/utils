{
 "cells": [
  {
   "cell_type": "markdown",
   "metadata": {},
   "source": [
    "## 正向传播过程forward"
   ]
  },
  {
   "cell_type": "code",
   "execution_count": null,
   "metadata": {},
   "outputs": [],
   "source": [
    "大写字母表示矩阵或向量，小写字母表示标量\n",
    "\n",
    "输入层有n个神经元， 隐层有m个神经元, 输出层p个神经元\n",
    "\n",
    "输入矩阵X(n, batch_size): \n",
    "    X是一个矩阵, X的每一列表示一个样本向量\n",
    "    n：矩阵的行数，表示输入向量的维度，即输入层神经元的个数；\n",
    "    batch_size 或者 step：X矩阵的列数，表示训练样本的个数，或者时间维度。\n",
    "    \n",
    "W(m, n)：隐层权重矩阵\n",
    "\n",
    "隐层的输出 Y(m, batch_size) = W * X + b1\n",
    "\n",
    "或者 每个输入样本增加一个维度\n",
    "    X1(n+1, batch_size) = [[X],\n",
    "                           [1]]\n",
    "    W1(m, n+1)\n",
    "    Y(m, batch_size) = W1 * X1\n",
    "    \n",
    "隐层输出矩阵Y，需要经过激活函数（如tanh），Y1(m, batch_size) = tanh(Y)  #表示Y中的每一个元素都要用tanh函数处理\n",
    "\n",
    "输出层权重矩阵V(p, m)\n",
    "输出矩阵O(p, batch_size) = tanh(V * Y1 + b2)\n"
   ]
  },
  {
   "cell_type": "markdown",
   "metadata": {},
   "source": [
    "## 反向传播调整连接权重"
   ]
  },
  {
   "cell_type": "code",
   "execution_count": null,
   "metadata": {},
   "outputs": [],
   "source": [
    "代价函数\n",
    "\n",
    "然后求出梯度，设一个学习率，调整权重矩阵的值\n",
    "\n",
    "这里最关键的一步是求梯度， 需要的就是纯粹的数学功力！！！"
   ]
  }
 ],
 "metadata": {
  "kernelspec": {
   "display_name": "Python 3",
   "language": "python",
   "name": "python3"
  },
  "language_info": {
   "codemirror_mode": {
    "name": "ipython",
    "version": 3
   },
   "file_extension": ".py",
   "mimetype": "text/x-python",
   "name": "python",
   "nbconvert_exporter": "python",
   "pygments_lexer": "ipython3",
   "version": "3.6.5"
  }
 },
 "nbformat": 4,
 "nbformat_minor": 2
}
