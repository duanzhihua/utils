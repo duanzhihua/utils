{
 "cells": [
  {
   "cell_type": "code",
   "execution_count": 1,
   "metadata": {},
   "outputs": [],
   "source": [
    "import time\n",
    "import numpy as np\n",
    "import sklearn\n",
    "import sklearn.metrics.pairwise as pw\n",
    "import cv2\n",
    "import dlib"
   ]
  },
  {
   "cell_type": "code",
   "execution_count": 2,
   "metadata": {},
   "outputs": [
    {
     "data": {
      "text/plain": [
       "'/home/ian/code/github/utils1/0examples/DL'"
      ]
     },
     "execution_count": 2,
     "metadata": {},
     "output_type": "execute_result"
    }
   ],
   "source": [
    "%pwd"
   ]
  },
  {
   "cell_type": "code",
   "execution_count": 2,
   "metadata": {},
   "outputs": [],
   "source": [
    "prototxt = '/home/ian/code/github/data/vgg_face_caffe/VGG_FACE_deploy.prototxt'\n",
    "caffemodel = '/home/ian/code/github/data/vgg_face_caffe/VGG_FACE.caffemodel'\n",
    "dlib_model = '/home/ian/code/github/data/dlib/shape_predictor_68_face_landmarks.dat'"
   ]
  },
  {
   "cell_type": "code",
   "execution_count": 3,
   "metadata": {},
   "outputs": [],
   "source": [
    "detector = dlib.get_frontal_face_detector()\n",
    "predictor = dlib.shape_predictor(dlib_model)\n",
    "net = cv2.dnn.readNetFromCaffe(prototxt, caffemodel)"
   ]
  },
  {
   "cell_type": "code",
   "execution_count": 4,
   "metadata": {},
   "outputs": [],
   "source": [
    "f = 'fbb1.jpg'\n",
    "# opencv 读取图片，并显示\n",
    "img = cv2.imread(f, cv2.IMREAD_COLOR)"
   ]
  },
  {
   "cell_type": "code",
   "execution_count": 7,
   "metadata": {},
   "outputs": [],
   "source": [
    "blob = cv2.dnn.blobFromImage(cv2.resize(img, (300, 300)), 0.007843, (300, 300), 127.5)"
   ]
  },
  {
   "cell_type": "code",
   "execution_count": 8,
   "metadata": {},
   "outputs": [],
   "source": [
    "net.setInput(blob)"
   ]
  },
  {
   "cell_type": "code",
   "execution_count": 9,
   "metadata": {},
   "outputs": [
    {
     "ename": "error",
     "evalue": "OpenCV(3.4.2) /io/opencv/modules/dnn/src/layers/fully_connected_layer.cpp:155: error: (-215:Assertion failed) srcMat.dims == 2 && srcMat.cols == weights.cols && dstMat.rows == srcMat.rows && dstMat.cols == weights.rows && srcMat.type() == weights.type() && weights.type() == dstMat.type() && srcMat.type() == 5 && (biasMat.empty() || (biasMat.type() == srcMat.type() && biasMat.isContinuous() && (int)biasMat.total() == dstMat.cols)) in function 'run'\n",
     "output_type": "error",
     "traceback": [
      "\u001b[0;31m---------------------------------------------------------------------------\u001b[0m",
      "\u001b[0;31merror\u001b[0m                                     Traceback (most recent call last)",
      "\u001b[0;32m<ipython-input-9-fc06f0b5d287>\u001b[0m in \u001b[0;36m<module>\u001b[0;34m()\u001b[0m\n\u001b[0;32m----> 1\u001b[0;31m \u001b[0mnet\u001b[0m\u001b[0;34m.\u001b[0m\u001b[0mforward\u001b[0m\u001b[0;34m(\u001b[0m\u001b[0;34m)\u001b[0m\u001b[0;34m\u001b[0m\u001b[0m\n\u001b[0m",
      "\u001b[0;31merror\u001b[0m: OpenCV(3.4.2) /io/opencv/modules/dnn/src/layers/fully_connected_layer.cpp:155: error: (-215:Assertion failed) srcMat.dims == 2 && srcMat.cols == weights.cols && dstMat.rows == srcMat.rows && dstMat.cols == weights.rows && srcMat.type() == weights.type() && weights.type() == dstMat.type() && srcMat.type() == 5 && (biasMat.empty() || (biasMat.type() == srcMat.type() && biasMat.isContinuous() && (int)biasMat.total() == dstMat.cols)) in function 'run'\n"
     ]
    }
   ],
   "source": [
    "net.forward()"
   ]
  },
  {
   "cell_type": "code",
   "execution_count": null,
   "metadata": {},
   "outputs": [],
   "source": [
    "detections = net.forward()"
   ]
  },
  {
   "cell_type": "code",
   "execution_count": null,
   "metadata": {},
   "outputs": [
    {
     "name": "stdout",
     "output_type": "stream",
     "text": [
      "Number of faces detected: 1\n",
      "face 0; left 165; top 116; right 255; bottom 206\n"
     ]
    }
   ],
   "source": [
    "\n",
    "\n",
    "# 摘自官方文档：\n",
    "# image is a numpy ndarray containing either an 8bit grayscale or RGB image.\n",
    "# opencv读入的图片默认是bgr格式，我们需要将其转换为rgb格式；都是numpy的ndarray类。\n",
    "b, g, r = cv2.split(img)    # 分离三个颜色通道\n",
    "img2 = cv2.merge([r, g, b])   # 融合三个颜色通道生成新图片\n",
    "\n",
    "dets = detector(img, 1) #使用detector进行人脸检测 dets为返回的结果\n",
    "print(\"Number of faces detected: {}\".format(len(dets)))  # 打印识别到的人脸个数\n",
    "# enumerate是一个Python的内置方法，用于遍历索引\n",
    "# index是序号；face是dets中取出的dlib.rectangle类的对象，包含了人脸的区域等信息\n",
    "# left()、top()、right()、bottom()都是dlib.rectangle类的方法，对应矩形四条边的位置\n",
    "for index, face in enumerate(dets):\n",
    "    print('face {}; left {}; top {}; right {}; bottom {}'.format(index, face.left(), face.top(), face.right(), face.bottom()))\n",
    "\n",
    "    # 在图片中标注人脸，并显示\n",
    "    left = face.left()\n",
    "    top = face.top()\n",
    "    right = face.right()\n",
    "    bottom = face.bottom()\n",
    "    cv2.rectangle(img, (left, top), (right, bottom), (0, 255, 0), 3)\n",
    "    cv2.namedWindow(f, cv2.WINDOW_AUTOSIZE)\n",
    "    cv2.imshow(f, img)\n",
    "    k = cv2.waitKey(0)\n",
    "    cv2.destroyAllWindows()\n"
   ]
  },
  {
   "cell_type": "code",
   "execution_count": null,
   "metadata": {},
   "outputs": [],
   "source": [
    "gray = cv2.cvtColor(img, cv2.COLOR_BGR2GRAY)\n",
    " \n",
    "\n",
    "dets = detector(gray, 1)\n",
    "for face in dets:\n",
    "    shape = predictor(img, face)  # 寻找人脸的68个标定点\n",
    "    # 遍历所有点，打印出其坐标，并圈出来\n",
    "    for pt in shape.parts():\n",
    "        pt_pos = (pt.x, pt.y)\n",
    "        cv2.circle(img, pt_pos, 2, (0, 255, 0), 1)\n",
    "    cv2.imshow(\"image\", img)\n",
    "\n",
    "cv2.waitKey(0)\n",
    "cv2.destroyAllWindows()"
   ]
  },
  {
   "cell_type": "code",
   "execution_count": 6,
   "metadata": {},
   "outputs": [
    {
     "ename": "NameError",
     "evalue": "name 'gray' is not defined",
     "output_type": "error",
     "traceback": [
      "\u001b[0;31m---------------------------------------------------------------------------\u001b[0m",
      "\u001b[0;31mNameError\u001b[0m                                 Traceback (most recent call last)",
      "\u001b[0;32m<ipython-input-6-0909336b5bea>\u001b[0m in \u001b[0;36m<module>\u001b[0;34m()\u001b[0m\n\u001b[0;32m----> 1\u001b[0;31m \u001b[0mdets\u001b[0m \u001b[0;34m=\u001b[0m \u001b[0mdetector\u001b[0m\u001b[0;34m(\u001b[0m\u001b[0mgray\u001b[0m\u001b[0;34m,\u001b[0m \u001b[0;36m1\u001b[0m\u001b[0;34m)\u001b[0m\u001b[0;34m\u001b[0m\u001b[0m\n\u001b[0m\u001b[1;32m      2\u001b[0m \u001b[0;32mfor\u001b[0m \u001b[0mface\u001b[0m \u001b[0;32min\u001b[0m \u001b[0mdets\u001b[0m\u001b[0;34m:\u001b[0m\u001b[0;34m\u001b[0m\u001b[0m\n\u001b[1;32m      3\u001b[0m     \u001b[0mshape\u001b[0m \u001b[0;34m=\u001b[0m \u001b[0mpredictor\u001b[0m\u001b[0;34m(\u001b[0m\u001b[0mimg\u001b[0m\u001b[0;34m,\u001b[0m \u001b[0mface\u001b[0m\u001b[0;34m)\u001b[0m  \u001b[0;31m# 寻找人脸的68个标定点\u001b[0m\u001b[0;34m\u001b[0m\u001b[0m\n\u001b[1;32m      4\u001b[0m     \u001b[0;31m# 遍历所有点，打印出其坐标，并圈出来\u001b[0m\u001b[0;34m\u001b[0m\u001b[0;34m\u001b[0m\u001b[0m\n\u001b[1;32m      5\u001b[0m     \u001b[0;32mfor\u001b[0m \u001b[0mpt\u001b[0m \u001b[0;32min\u001b[0m \u001b[0mshape\u001b[0m\u001b[0;34m.\u001b[0m\u001b[0mparts\u001b[0m\u001b[0;34m(\u001b[0m\u001b[0;34m)\u001b[0m\u001b[0;34m:\u001b[0m\u001b[0;34m\u001b[0m\u001b[0m\n",
      "\u001b[0;31mNameError\u001b[0m: name 'gray' is not defined"
     ]
    }
   ],
   "source": [
    "dets = detector(gray, 1)\n",
    "for face in dets:\n",
    "    shape = predictor(img, face)  # 寻找人脸的68个标定点\n",
    "    # 遍历所有点，打印出其坐标，并圈出来\n",
    "    for pt in shape.parts():\n",
    "        pt_pos = (pt.x, pt.y)\n",
    "        cv2.circle(img, pt_pos, 2, (0, 255, 0), 1)\n",
    "    cv2.imshow(\"image\", img)\n",
    "    k = cv2.waitKey(0)\n",
    "    cv2.destroyAllWindows()"
   ]
  },
  {
   "cell_type": "code",
   "execution_count": 10,
   "metadata": {},
   "outputs": [],
   "source": [
    "# -*- coding: utf-8 -*-\n",
    "# 自动识别人脸特征\n",
    "# filename : find_facial_features_in_picture.py\n",
    "\n",
    "# 导入pil模块 ，可用命令安装 apt-get install python-Imaging\n",
    "from PIL import Image, ImageDraw\n",
    "# 导入face_recogntion模块，可用命令安装 pip install face_recognition\n",
    "import face_recognition\n"
   ]
  },
  {
   "cell_type": "code",
   "execution_count": 33,
   "metadata": {},
   "outputs": [
    {
     "name": "stdout",
     "output_type": "stream",
     "text": [
      "I found 1 face(s) in this photograph.\n"
     ]
    }
   ],
   "source": [
    "# 将jpg文件加载到numpy 数组中\n",
    "image = face_recognition.load_image_file(\"tly1.jpg\")\n",
    "\n",
    "#查找图像中所有面部的所有面部特征\n",
    "face_landmarks_list = face_recognition.face_landmarks(image)\n",
    "\n",
    "print(\"I found {} face(s) in this photograph.\".format(len(face_landmarks_list)))"
   ]
  },
  {
   "cell_type": "code",
   "execution_count": 34,
   "metadata": {},
   "outputs": [
    {
     "name": "stdout",
     "output_type": "stream",
     "text": [
      "The chin in this face has the following points: [(191, 421), (204, 465), (219, 508), (240, 549), (271, 586), (313, 614), (360, 635), (410, 650), (453, 646), (484, 625), (503, 588), (517, 551), (527, 512), (533, 474), (535, 436), (531, 396), (520, 359)]\n",
      "The left_eyebrow in this face has the following points: [(247, 381), (271, 359), (303, 345), (338, 339), (373, 342)]\n",
      "The right_eyebrow in this face has the following points: [(422, 326), (443, 312), (466, 304), (491, 301), (508, 315)]\n",
      "The nose_bridge in this face has the following points: [(408, 372), (418, 401), (428, 430), (439, 459)]\n",
      "The nose_tip in this face has the following points: [(403, 492), (422, 492), (439, 492), (451, 485), (460, 477)]\n",
      "The left_eye in this face has the following points: [(293, 407), (312, 390), (335, 384), (355, 395), (339, 404), (315, 410)]\n",
      "The right_eye in this face has the following points: [(443, 375), (460, 354), (480, 348), (494, 357), (485, 369), (466, 373)]\n",
      "The top_lip in this face has the following points: [(372, 551), (398, 531), (423, 518), (440, 518), (454, 511), (471, 512), (487, 521), (478, 526), (457, 526), (442, 530), (425, 533), (382, 549)]\n",
      "The bottom_lip in this face has the following points: [(487, 521), (477, 547), (464, 567), (448, 574), (431, 577), (404, 572), (372, 551), (382, 549), (427, 551), (444, 548), (459, 541), (478, 526)]\n"
     ]
    }
   ],
   "source": [
    "for face_landmarks in face_landmarks_list:\n",
    "\n",
    "   #打印此图像中每个面部特征的位置\n",
    "    facial_features = [\n",
    "        'chin',\n",
    "        'left_eyebrow',\n",
    "        'right_eyebrow',\n",
    "        'nose_bridge',\n",
    "        'nose_tip',\n",
    "        'left_eye',\n",
    "        'right_eye',\n",
    "        'top_lip',\n",
    "        'bottom_lip'\n",
    "    ]\n",
    "\n",
    "    for facial_feature in facial_features:\n",
    "        print(\"The {} in this face has the following points: {}\".format(facial_feature, face_landmarks[facial_feature]))\n",
    "   #让我们在图像中描绘出每个人脸特征！\n",
    "    pil_image = Image.fromarray(image)\n",
    "    d = ImageDraw.Draw(pil_image)\n",
    "\n",
    "    for facial_feature in facial_features:\n",
    "        d.line(face_landmarks[facial_feature], width=5)\n",
    "\n",
    "    pil_image.show()"
   ]
  },
  {
   "cell_type": "code",
   "execution_count": 32,
   "metadata": {},
   "outputs": [
    {
     "name": "stdout",
     "output_type": "stream",
     "text": [
      "I found 1 face(s) in this photograph.\n",
      "A face is located at pixel location Top: 247, Left: 204, Bottom: 632, Right: 589\n"
     ]
    }
   ],
   "source": [
    "# -*- coding: utf-8 -*-\n",
    "#  识别图片中的所有人脸并显示出来\n",
    "# filename : find_faces_in_picture.py\n",
    "\n",
    "# 导入pil模块 ，可用命令安装 apt-get install python-Imaging\n",
    "from PIL import Image\n",
    "# 导入face_recogntion模块，可用命令安装 pip install face_recognition\n",
    "import face_recognition\n",
    "\n",
    "# 将jpg文件加载到numpy 数组中\n",
    "image = face_recognition.load_image_file(\"tly1.jpg\")\n",
    "\n",
    "# 使用默认的给予HOG模型查找图像中所有人脸\n",
    "# 这个方法已经相当准确了，但还是不如CNN模型那么准确，因为没有使用GPU加速\n",
    "# 另请参见: find_faces_in_picture_cnn.py\n",
    "face_locations = face_recognition.face_locations(image)\n",
    "\n",
    "# 使用CNN模型\n",
    "# face_locations = face_recognition.face_locations(image, number_of_times_to_upsample=0, model=\"cnn\")\n",
    "\n",
    "# 打印：我从图片中找到了 多少 张人脸\n",
    "print(\"I found {} face(s) in this photograph.\".format(len(face_locations)))\n",
    "\n",
    "# 循环找到的所有人脸\n",
    "for face_location in face_locations:\n",
    "\n",
    "        # 打印每张脸的位置信息\n",
    "        top, right, bottom, left = face_location\n",
    "        print(\"A face is located at pixel location Top: {}, Left: {}, Bottom: {}, Right: {}\".format(top, left, bottom, right)) \n",
    "# 指定人脸的位置信息，然后显示人脸图片\n",
    "        face_image = image[top:bottom, left:right]\n",
    "        pil_image = Image.fromarray(face_image)\n",
    "        pil_image.show() \n"
   ]
  },
  {
   "cell_type": "code",
   "execution_count": 30,
   "metadata": {},
   "outputs": [
    {
     "name": "stdout",
     "output_type": "stream",
     "text": [
      "result :[False]\n",
      "这个未知面孔是 范冰冰 吗? False\n",
      "这个未知面孔是 我们从未见过的新面孔吗? True\n"
     ]
    }
   ],
   "source": [
    "# -*- coding: utf-8 -*-\n",
    "# 识别人脸鉴定是哪个人\n",
    "\n",
    "# 导入face_recogntion模块，可用命令安装 pip install face_recognition\n",
    "import face_recognition\n",
    "\n",
    "#将jpg文件加载到numpy数组中\n",
    "tly = face_recognition.load_image_file(\"tly1.jpg\")\n",
    "#要识别的图片\n",
    "tly2 = face_recognition.load_image_file(\"tly2.jpg\")\n",
    "\n",
    "#获取每个图像文件中每个面部的面部编码\n",
    "#由于每个图像中可能有多个面，所以返回一个编码列表。\n",
    "#但是由于我知道每个图像只有一个脸，我只关心每个图像中的第一个编码，所以我取索引0。\n",
    "chen_face_encoding = face_recognition.face_encodings(chen_image)[0]\n",
    "unknown_face_encoding = face_recognition.face_encodings(unknown_image)[0]\n",
    "known_faces = [\n",
    "    chen_face_encoding\n",
    "]\n",
    "#结果是True/false的数组，未知面孔known_faces阵列中的任何人相匹配的结果\n",
    "results = face_recognition.compare_faces(known_faces, unknown_face_encoding)\n",
    "\n",
    "print(\"result :{}\".format(results))\n",
    "print(\"这个未知面孔是 范冰冰 吗? {}\".format(results[0]))\n",
    "print(\"这个未知面孔是 我们从未见过的新面孔吗? {}\".format(not True in results)) "
   ]
  },
  {
   "cell_type": "code",
   "execution_count": 20,
   "metadata": {},
   "outputs": [
    {
     "data": {
      "text/plain": [
       "(numpy.ndarray, (128,))"
      ]
     },
     "execution_count": 20,
     "metadata": {},
     "output_type": "execute_result"
    }
   ],
   "source": [
    "type(chen_face_encoding),chen_face_encoding.shape"
   ]
  },
  {
   "cell_type": "code",
   "execution_count": 21,
   "metadata": {},
   "outputs": [],
   "source": [
    "unknown_face_encoding = face_recognition.face_encodings(unknown_image)[0]"
   ]
  },
  {
   "cell_type": "code",
   "execution_count": 24,
   "metadata": {},
   "outputs": [],
   "source": [
    "import numpy as np"
   ]
  },
  {
   "cell_type": "code",
   "execution_count": 27,
   "metadata": {},
   "outputs": [
    {
     "data": {
      "text/plain": [
       "0.9747391825025292"
      ]
     },
     "execution_count": 27,
     "metadata": {},
     "output_type": "execute_result"
    }
   ],
   "source": [
    "known_face_encoding.dot(unknown_face_encoding)/np.sqrt(known_face_encoding.dot(known_face_encoding)+unknown_face_encoding.dot(unknown_face_encoding))"
   ]
  },
  {
   "cell_type": "code",
   "execution_count": 25,
   "metadata": {},
   "outputs": [
    {
     "data": {
      "text/plain": [
       "2.013018944400996"
      ]
     },
     "execution_count": 25,
     "metadata": {},
     "output_type": "execute_result"
    }
   ],
   "source": [
    "np.sqrt(chen_face_encoding.dot(chen_face_encoding)+unknown_face_encoding.dot(unknown_face_encoding))"
   ]
  },
  {
   "cell_type": "code",
   "execution_count": 22,
   "metadata": {},
   "outputs": [],
   "source": [
    "import sklearn.metrics.pairwise as pw"
   ]
  },
  {
   "cell_type": "code",
   "execution_count": 23,
   "metadata": {},
   "outputs": [
    {
     "name": "stdout",
     "output_type": "stream",
     "text": [
      "chen_face_encoding:[-6.84563443e-02  4.30773869e-02  4.55830581e-02 -1.39041126e-01\n",
      " -7.03139529e-02  2.66130082e-04 -1.30727977e-01 -8.87837559e-02\n",
      "  1.37939319e-01 -2.38337547e-01  1.65388793e-01 -1.25447780e-01\n",
      " -1.45138502e-01  3.19630653e-02 -4.97995727e-02  2.04240814e-01\n",
      " -1.39802739e-01 -2.13749498e-01 -4.61540110e-02  2.80837119e-02\n",
      "  8.56782421e-02  6.05962127e-02 -5.04655875e-02  8.88534784e-02\n",
      " -9.87543762e-02 -3.20595473e-01 -1.32448643e-01 -5.50652631e-02\n",
      " -4.19244394e-02 -1.11554123e-01 -4.42614332e-02  2.74409796e-03\n",
      " -2.07768857e-01  1.32386237e-02  1.04458854e-02  1.47398904e-01\n",
      "  6.59287050e-02 -1.19331375e-01  1.53073505e-01  3.92469838e-02\n",
      " -3.11557144e-01  8.76748487e-02  1.02177151e-01  1.85443729e-01\n",
      "  1.45471960e-01  1.73772313e-02 -4.98787202e-02 -1.80701226e-01\n",
      "  1.38784602e-01 -1.87864259e-01  7.25091919e-02  7.68042505e-02\n",
      "  7.55908042e-02  7.05095157e-02  4.34106067e-02 -1.15382463e-01\n",
      "  7.94023424e-02  9.80509520e-02 -1.83386832e-01 -1.81076187e-03\n",
      "  6.53531030e-02 -2.58536413e-02  6.66408837e-02 -1.18374266e-01\n",
      "  2.15853453e-01  1.36445627e-01 -4.49003465e-02 -2.46623307e-01\n",
      "  1.41503558e-01 -1.82436958e-01 -1.14078492e-01  1.32301733e-01\n",
      " -1.07023746e-01 -1.27674937e-01 -2.98877507e-01 -2.08481606e-02\n",
      "  3.52551490e-01  1.29028410e-01 -1.51131839e-01  1.20494075e-01\n",
      "  1.82984192e-02 -7.80315474e-02  8.53961855e-02  1.51386857e-01\n",
      "  9.10018757e-03  7.56639764e-02 -2.21297499e-02  4.33094613e-02\n",
      "  3.30641538e-01  4.70441952e-03 -1.87344812e-02  1.77521914e-01\n",
      " -4.61328104e-02  7.38722309e-02  5.95829561e-02  1.79620348e-02\n",
      " -7.34798536e-02  6.74842857e-04 -1.57572448e-01 -1.77052543e-02\n",
      " -6.81784153e-02  2.64144428e-02 -6.54425025e-02  1.51266441e-01\n",
      " -1.79620087e-01  1.14831194e-01 -6.69310614e-02 -9.05117616e-02\n",
      " -5.04422411e-02  9.17086825e-02 -6.46221042e-02 -3.36551555e-02\n",
      "  1.42118379e-01 -2.11296633e-01  1.33579910e-01  1.22769088e-01\n",
      "  9.32902917e-02  6.93738908e-02  1.05273694e-01  1.08682670e-01\n",
      " -1.95611920e-02 -1.76742207e-02 -2.82749414e-01 -1.47142634e-02\n",
      "  1.25577584e-01 -3.76560427e-02  1.22327328e-01  4.25408855e-02]\n"
     ]
    }
   ],
   "source": [
    "print(\"chen_face_encoding:{}\".format(chen_face_encoding))"
   ]
  },
  {
   "cell_type": "code",
   "execution_count": null,
   "metadata": {},
   "outputs": [],
   "source": [
    "\n",
    "\n",
    "print(\"unknown_face_encoding :{}\".format(unknown_face_encoding))\n",
    "\n",
    "known_faces = [\n",
    "    chen_face_encoding\n",
    "]\n",
    "#结果是True/false的数组，未知面孔known_faces阵列中的任何人相匹配的结果\n",
    "results = face_recognition.compare_faces(known_faces, unknown_face_encoding)\n",
    "\n",
    "print(\"result :{}\".format(results))\n",
    "print(\"这个未知面孔是 范冰冰 吗? {}\".format(results[0]))\n",
    "print(\"这个未知面孔是 我们从未见过的新面孔吗? {}\".format(not True in results)) "
   ]
  }
 ],
 "metadata": {
  "kernelspec": {
   "display_name": "Python 3",
   "language": "python",
   "name": "python3"
  },
  "language_info": {
   "codemirror_mode": {
    "name": "ipython",
    "version": 3
   },
   "file_extension": ".py",
   "mimetype": "text/x-python",
   "name": "python",
   "nbconvert_exporter": "python",
   "pygments_lexer": "ipython3",
   "version": "3.6.5"
  }
 },
 "nbformat": 4,
 "nbformat_minor": 2
}
