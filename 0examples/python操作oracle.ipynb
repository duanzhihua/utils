{
 "cells": [
  {
   "cell_type": "markdown",
   "metadata": {},
   "source": [
    "## 需要在python所在的Linux上配置oracle的 Oracle Client libraries\n",
    "\n",
    "安装Oracle Instant Client Zip  \n",
    "https://oracle.github.io/odpi/doc/installation.html#oracle-instant-client-zip\n",
    "\n",
    "To run ODPI-C applications with Oracle Instant Client zip files:\n",
    "\n",
    "* Download an Oraclezip file: 64-bit or 32-bit, matching your application architecture.  \n",
    "http://www.oracle.com/technetwork/topics/linuxx86-64soft-092277.html\n",
    "\n",
    "* Unzip the package into a single directory that is accessible to your application. For example:\n",
    "\n",
    "mkdir -p /opt/oracle\n",
    "cd /opt/oracle\n",
    "unzip instantclient-basic-linux.x64-12.2.0.1.0.zip\n",
    "\n",
    "* Install the libaio package with sudo or as the root user. For example:\n",
    "\n",
    "sudo yum install libaio\n",
    "On some Linux distributions this package is called libaio1 instead.\n",
    "\n",
    "If there is no other Oracle software on the machine that will be impacted, permanently add Instant Client to the runtime link path. For example, with sudo or as the root user:\n",
    "\n",
    "* set the environment variable LD_LIBRARY_PATH to the appropriate directory for the Instant Client version. For example:\n",
    "\n",
    "export LD_LIBRARY_PATH=/opt/oracle/instantclient_12_2:$LD_LIBRARY_PATH\n"
   ]
  },
  {
   "cell_type": "code",
   "execution_count": 1,
   "metadata": {},
   "outputs": [],
   "source": [
    "import cx_Oracle"
   ]
  },
  {
   "cell_type": "code",
   "execution_count": 2,
   "metadata": {
    "scrolled": true
   },
   "outputs": [],
   "source": [
    "conn=cx_Oracle.connect('test/test@h2:1521/ORCLPDB')#用户名/密码@oracleip:port/db"
   ]
  },
  {
   "cell_type": "code",
   "execution_count": 3,
   "metadata": {},
   "outputs": [],
   "source": [
    "c=conn.cursor() "
   ]
  },
  {
   "cell_type": "code",
   "execution_count": 14,
   "metadata": {},
   "outputs": [],
   "source": [
    "x=c.execute('select * from table1') "
   ]
  },
  {
   "cell_type": "code",
   "execution_count": 15,
   "metadata": {},
   "outputs": [
    {
     "data": {
      "text/plain": [
       "(1, 'a1', 11)"
      ]
     },
     "execution_count": 15,
     "metadata": {},
     "output_type": "execute_result"
    }
   ],
   "source": [
    "x.fetchone()#相当于生成器，一次取一条"
   ]
  },
  {
   "cell_type": "code",
   "execution_count": 12,
   "metadata": {},
   "outputs": [
    {
     "data": {
      "text/plain": [
       "[(1, 'a1', 11), (2, 's2', 12)]"
      ]
     },
     "execution_count": 12,
     "metadata": {},
     "output_type": "execute_result"
    }
   ],
   "source": [
    "list(x)#或者都取出来"
   ]
  },
  {
   "cell_type": "code",
   "execution_count": null,
   "metadata": {},
   "outputs": [],
   "source": []
  }
 ],
 "metadata": {
  "kernelspec": {
   "display_name": "Python 3",
   "language": "python",
   "name": "python3"
  },
  "language_info": {
   "codemirror_mode": {
    "name": "ipython",
    "version": 3
   },
   "file_extension": ".py",
   "mimetype": "text/x-python",
   "name": "python",
   "nbconvert_exporter": "python",
   "pygments_lexer": "ipython3",
   "version": "3.6.5"
  }
 },
 "nbformat": 4,
 "nbformat_minor": 2
}
