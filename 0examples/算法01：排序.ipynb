{
 "cells": [
  {
   "cell_type": "markdown",
   "metadata": {},
   "source": [
    "## 排序算法\n",
    "### 插入排序思想\n",
    "* 从第二个元素开始，每个元素和前一个的元素进行比较，如果小于前一个元素，则调换位置；接着和前前一个元素比较，直至大于前一个元素或者不存在前一个元素时，比较结束\n",
    "#### 插入排序效率\n",
    "O(n2)\n",
    "### 归并排序思想\n",
    "* 分治法  \n",
    "#### 归并排序效率\n",
    "* O(nlogn)"
   ]
  },
  {
   "cell_type": "code",
   "execution_count": 1,
   "metadata": {},
   "outputs": [],
   "source": [
    "def sort(list1, mode='insertion sorting'):\n",
    "    list1 = list1.copy()\n",
    "    if mode == 'insertion sorting':\n",
    "        for i in range(1,len(list1)):\n",
    "            ii = i\n",
    "            while list1[ii] < list1[ii-1]:        \n",
    "                temp = list1[ii]\n",
    "                list1[ii] = list1[ii-1]\n",
    "                list1[ii-1] = temp\n",
    "                ii = ii-1\n",
    "                if ii == 0:\n",
    "                    break\n",
    "        return list1\n",
    "    elif mode == 'merge sorting':\n",
    "        def merge(a1,a2):\n",
    "            '''\n",
    "            把a1,a2合并为一个排序好的序列\n",
    "            a1 & a2: 两个已经排序好的list\n",
    "            '''\n",
    "            l1 = list()\n",
    "            i, ii = 0, 0\n",
    "            while i<len(a1) and ii < len(a2):\n",
    "                if a1[i]<a2[ii]:\n",
    "                    l1.append(a1[i])\n",
    "                    i += 1\n",
    "                else:\n",
    "                    l1.append(a2[ii])\n",
    "                    ii += 1\n",
    "            if i<len(a1):\n",
    "                l1.extend(a1[i:])\n",
    "            else:\n",
    "                l1.extend(a2[ii:])\n",
    "            return l1\n",
    "        def merge_sort(l1):\n",
    "            if len(l1)>1:\n",
    "                mid = len(l1)//2\n",
    "                a1 = merge_sort(l1[:mid])\n",
    "                a2 = merge_sort(l1[mid:])\n",
    "                return merge(a1,a2)\n",
    "            return l1\n",
    "        return merge_sort(list1)\n"
   ]
  },
  {
   "cell_type": "code",
   "execution_count": 2,
   "metadata": {},
   "outputs": [],
   "source": [
    "import numpy as np"
   ]
  },
  {
   "cell_type": "code",
   "execution_count": 3,
   "metadata": {},
   "outputs": [],
   "source": [
    "list1 = np.random.permutation(20000)"
   ]
  },
  {
   "cell_type": "code",
   "execution_count": 4,
   "metadata": {},
   "outputs": [
    {
     "data": {
      "text/plain": [
       "array([ 3390,  6441, 13606,  5265,  5091])"
      ]
     },
     "execution_count": 4,
     "metadata": {},
     "output_type": "execute_result"
    }
   ],
   "source": [
    "list1[:5]"
   ]
  },
  {
   "cell_type": "code",
   "execution_count": 5,
   "metadata": {},
   "outputs": [
    {
     "name": "stdout",
     "output_type": "stream",
     "text": [
      "CPU times: user 45.1 s, sys: 1.46 ms, total: 45.1 s\n",
      "Wall time: 45.2 s\n"
     ]
    }
   ],
   "source": [
    "%%time\n",
    "l1 = sort(list1)"
   ]
  },
  {
   "cell_type": "code",
   "execution_count": 6,
   "metadata": {},
   "outputs": [
    {
     "data": {
      "text/plain": [
       "array([ 3390,  6441, 13606,  5265,  5091, 11849, 18236,  8970,  5498,\n",
       "        4057, 11199, 14358,  7800, 15345,  8756, 11750, 12372, 18185,\n",
       "       13828,  6055])"
      ]
     },
     "execution_count": 6,
     "metadata": {},
     "output_type": "execute_result"
    }
   ],
   "source": [
    "list1[:20]"
   ]
  },
  {
   "cell_type": "code",
   "execution_count": 7,
   "metadata": {},
   "outputs": [
    {
     "data": {
      "text/plain": [
       "array([ 0,  1,  2,  3,  4,  5,  6,  7,  8,  9, 10, 11, 12, 13, 14, 15, 16,\n",
       "       17, 18, 19])"
      ]
     },
     "execution_count": 7,
     "metadata": {},
     "output_type": "execute_result"
    }
   ],
   "source": [
    "l1[:20]"
   ]
  },
  {
   "cell_type": "code",
   "execution_count": 8,
   "metadata": {},
   "outputs": [
    {
     "name": "stdout",
     "output_type": "stream",
     "text": [
      "CPU times: user 118 ms, sys: 997 µs, total: 119 ms\n",
      "Wall time: 117 ms\n"
     ]
    }
   ],
   "source": [
    "%%time\n",
    "l2 = sort(list1,mode='merge sorting')"
   ]
  },
  {
   "cell_type": "code",
   "execution_count": 9,
   "metadata": {},
   "outputs": [
    {
     "data": {
      "text/plain": [
       "[0, 1, 2, 3, 4, 5, 6, 7, 8, 9, 10, 11, 12, 13, 14, 15, 16, 17, 18, 19]"
      ]
     },
     "execution_count": 9,
     "metadata": {},
     "output_type": "execute_result"
    }
   ],
   "source": [
    "l2[:20]"
   ]
  },
  {
   "cell_type": "code",
   "execution_count": null,
   "metadata": {},
   "outputs": [],
   "source": []
  }
 ],
 "metadata": {
  "kernelspec": {
   "display_name": "Python 3",
   "language": "python",
   "name": "python3"
  },
  "language_info": {
   "codemirror_mode": {
    "name": "ipython",
    "version": 3
   },
   "file_extension": ".py",
   "mimetype": "text/x-python",
   "name": "python",
   "nbconvert_exporter": "python",
   "pygments_lexer": "ipython3",
   "version": "3.6.5"
  }
 },
 "nbformat": 4,
 "nbformat_minor": 2
}
