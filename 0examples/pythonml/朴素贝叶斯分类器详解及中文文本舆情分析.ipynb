{
 "cells": [
  {
   "cell_type": "markdown",
   "metadata": {},
   "source": [
    "https://mp.weixin.qq.com/s?__biz=MzI0ODcxODk5OA==&mid=2247498734&idx=2&sn=f175cc66caadb0c3bd1b85471259f59c&chksm=e99ec817dee94101da969734aaf0f36fb275825a2a4847932be7a9df5ea951fee134869c6314&scene=0#rd  \n",
    "\n"
   ]
  },
  {
   "cell_type": "markdown",
   "metadata": {},
   "source": [
    "### 二. naive_bayes用法及简单案例\n",
    "\n",
    "scikit-learn机器学习包提供了3个朴素贝叶斯分类算法：\n",
    "\n",
    "GaussianNB(高斯朴素贝叶斯)  \n",
    "MultinomialNB(多项式朴素贝叶斯)  \n",
    "BernoulliNB(伯努利朴素贝叶斯)  \n",
    "\n",
    "1.高斯朴素贝叶斯\n",
    "\n",
    "调用方法为：sklearn.naive_bayes.GaussianNB(priors=None)。  \n",
    "下面随机生成六个坐标点，其中x坐标和y坐标同为正数时对应类标为2，x坐标和y坐标同为负数时对应类标为1。通过高斯朴素贝叶斯分类分析的代码如下："
   ]
  },
  {
   "cell_type": "code",
   "execution_count": 1,
   "metadata": {},
   "outputs": [],
   "source": [
    "import numpy as np\n",
    "from sklearn.naive_bayes import GaussianNB\n",
    "X = np.array([[-1, -1], [-2, -1], [-3, -2], [1, 1], [2, 1], [3, 2]])\n",
    "Y = np.array([1, 1, 1, 2, 2, 2])\n",
    "clf = GaussianNB()\n",
    "clf.fit(X, Y)      \n",
    "pre = clf.predict(X)"
   ]
  },
  {
   "cell_type": "code",
   "execution_count": 2,
   "metadata": {},
   "outputs": [
    {
     "name": "stdout",
     "output_type": "stream",
     "text": [
      "数据集预测结果: [1 1 1 2 2 2]\n",
      "[1]\n"
     ]
    }
   ],
   "source": [
    "print(\"数据集预测结果:\", pre)\n",
    "print(clf.predict([[-0.8, -1]]))"
   ]
  },
  {
   "cell_type": "code",
   "execution_count": 3,
   "metadata": {},
   "outputs": [
    {
     "name": "stdout",
     "output_type": "stream",
     "text": [
      "[1]\n"
     ]
    }
   ],
   "source": [
    "clf_pf = GaussianNB()\n",
    "clf_pf.partial_fit(X, Y, np.unique(Y)) #增加一部分样本\n",
    "print(clf_pf.predict([[-0.8, -1]]))"
   ]
  },
  {
   "cell_type": "markdown",
   "metadata": {},
   "source": [
    "下面是朴素贝叶斯算法常见的属性和方法。\n",
    "\n",
    "1) class_prior_属性  \n",
    "观察各类标记对应的先验概率，主要是class_prior_属性，返回数组。代码如下："
   ]
  },
  {
   "cell_type": "code",
   "execution_count": 4,
   "metadata": {},
   "outputs": [
    {
     "name": "stdout",
     "output_type": "stream",
     "text": [
      "[0.5 0.5]\n"
     ]
    }
   ],
   "source": [
    "print (clf.class_prior_)"
   ]
  },
  {
   "cell_type": "markdown",
   "metadata": {},
   "source": [
    "2) class_count_属性\n",
    "\n",
    "获取各类标记对应的训练样本数，代码如下："
   ]
  },
  {
   "cell_type": "code",
   "execution_count": 5,
   "metadata": {},
   "outputs": [
    {
     "name": "stdout",
     "output_type": "stream",
     "text": [
      "[3. 3.]\n"
     ]
    }
   ],
   "source": [
    "print (clf.class_count_)"
   ]
  },
  {
   "cell_type": "markdown",
   "metadata": {},
   "source": [
    "3) theta_属性\n",
    "\n",
    "获取各个类标记在各个特征上的均值，代码如下："
   ]
  },
  {
   "cell_type": "code",
   "execution_count": 6,
   "metadata": {},
   "outputs": [
    {
     "name": "stdout",
     "output_type": "stream",
     "text": [
      "[[-2.         -1.33333333]\n",
      " [ 2.          1.33333333]]\n"
     ]
    }
   ],
   "source": [
    "print (clf.theta_)"
   ]
  },
  {
   "cell_type": "markdown",
   "metadata": {},
   "source": [
    "4) sigma_属性\n",
    "\n",
    "获取各个类标记在各个特征上的方差，代码如下："
   ]
  },
  {
   "cell_type": "code",
   "execution_count": 7,
   "metadata": {},
   "outputs": [
    {
     "name": "stdout",
     "output_type": "stream",
     "text": [
      "[[-2.         -1.33333333]\n",
      " [ 2.          1.33333333]]\n"
     ]
    }
   ],
   "source": [
    "print (clf.theta_)"
   ]
  },
  {
   "cell_type": "markdown",
   "metadata": {},
   "source": [
    "5) fit(X, y, sample_weight=None)\n",
    "\n",
    "训练样本，X表示特征向量，y类标记，sample_weight表各样本权重数组。"
   ]
  },
  {
   "cell_type": "code",
   "execution_count": 10,
   "metadata": {},
   "outputs": [
    {
     "name": "stdout",
     "output_type": "stream",
     "text": [
      "GaussianNB(priors=None)\n",
      "[[-2.25 -1.5 ]\n",
      " [ 2.2   1.4 ]]\n",
      "[[0.6875 0.25  ]\n",
      " [0.56   0.24  ]]\n"
     ]
    }
   ],
   "source": [
    "#设置样本不同的权重\n",
    "clf.fit(X,Y,np.array([0.05,0.05,0.1,0.1,0.2,0.2]))\n",
    "print(clf)  \n",
    "print(clf.theta_)  \n",
    "print(clf.sigma_) "
   ]
  },
  {
   "cell_type": "markdown",
   "metadata": {},
   "source": [
    "6) partial_fit(X, y, classes=None, sample_weight=None)\n",
    "\n",
    "增量式训练，当训练数据集数据量非常大，不能一次性全部载入内存时，可以将数据集划分若干份，重复调用partial_fit在线学习模型参数，在第一次调用partial_fit函数时，必须制定classes参数，在随后的调用可以忽略。"
   ]
  },
  {
   "cell_type": "code",
   "execution_count": 11,
   "metadata": {},
   "outputs": [
    {
     "name": "stdout",
     "output_type": "stream",
     "text": [
      "[0.4 0.6]\n",
      "[1 2 2]\n",
      "[[1.00000000e+00 4.21207358e-40]\n",
      " [1.12585521e-12 1.00000000e+00]\n",
      " [8.73474886e-11 1.00000000e+00]]\n"
     ]
    }
   ],
   "source": [
    "X = np.array([[-1,-1], [-2,-2], [-3,-3], [-4,-4], [-5,-5], \n",
    "              [1,1], [2,2], [3,3]])  \n",
    "y = np.array([1, 1, 1, 1, 1, 2, 2, 2])  \n",
    "clf = GaussianNB()  \n",
    "clf.partial_fit(X,y,classes=[1,2],\n",
    "                sample_weight=np.array([0.05,0.05,0.1,0.1,0.1,0.2,0.2,0.2]))  \n",
    "print (clf.class_prior_ )\n",
    "print (clf.predict([[-6,-6],[4,5],[2,5]]) ) \n",
    "print (clf.predict_proba([[-6,-6],[4,5],[2,5]]))"
   ]
  },
  {
   "cell_type": "markdown",
   "metadata": {},
   "source": [
    "可以看到点[-6,-6]预测结果为1，[4,5]预测结果为2，[2,5]预测结果为2。同时，predict_proba(X)输出测试样本在各个类标记预测概率值。\n",
    "\n",
    "7) score(X, y, sample_weight=None)\n",
    "\n",
    "返回测试样本映射到指定类标记上的得分或准确率。"
   ]
  },
  {
   "cell_type": "code",
   "execution_count": 12,
   "metadata": {},
   "outputs": [
    {
     "name": "stdout",
     "output_type": "stream",
     "text": [
      "1.0\n"
     ]
    }
   ],
   "source": [
    "pre = clf.predict([[-6,-6],[4,5],[2,5]])  \n",
    "print (clf.score([[-6,-6],[4,5],[2,5]],pre))"
   ]
  },
  {
   "cell_type": "markdown",
   "metadata": {},
   "source": [
    "最后给出一个高斯朴素贝叶斯算法分析小麦数据集案例，代码如下："
   ]
  },
  {
   "cell_type": "code",
   "execution_count": null,
   "metadata": {},
   "outputs": [],
   "source": []
  }
 ],
 "metadata": {
  "kernelspec": {
   "display_name": "Python 3",
   "language": "python",
   "name": "python3"
  },
  "language_info": {
   "codemirror_mode": {
    "name": "ipython",
    "version": 3
   },
   "file_extension": ".py",
   "mimetype": "text/x-python",
   "name": "python",
   "nbconvert_exporter": "python",
   "pygments_lexer": "ipython3",
   "version": "3.6.5"
  }
 },
 "nbformat": 4,
 "nbformat_minor": 2
}
