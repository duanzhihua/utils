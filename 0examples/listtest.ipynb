{
 "cells": [
  {
   "cell_type": "markdown",
   "metadata": {},
   "source": [
    "## 关于python中list的使用范例"
   ]
  },
  {
   "cell_type": "markdown",
   "metadata": {},
   "source": [
    "## list生成"
   ]
  },
  {
   "cell_type": "code",
   "execution_count": 3,
   "metadata": {},
   "outputs": [
    {
     "data": {
      "text/plain": [
       "['我头疼', '我头疼', '我头疼', '我头疼', '我头疼']"
      ]
     },
     "execution_count": 3,
     "metadata": {},
     "output_type": "execute_result"
    }
   ],
   "source": [
    "#生成有多个重复值的list\n",
    "['我头疼']*5"
   ]
  },
  {
   "cell_type": "code",
   "execution_count": 4,
   "metadata": {},
   "outputs": [
    {
     "data": {
      "text/plain": [
       "['我', '头疼', '我', '头疼', '我', '头疼', '我', '头疼', '我', '头疼']"
      ]
     },
     "execution_count": 4,
     "metadata": {},
     "output_type": "execute_result"
    }
   ],
   "source": [
    "['我','头疼']*5"
   ]
  },
  {
   "cell_type": "markdown",
   "metadata": {},
   "source": [
    "### 得到最大值及其所在的索引"
   ]
  },
  {
   "cell_type": "code",
   "execution_count": null,
   "metadata": {},
   "outputs": [],
   "source": [
    "le.index(max(le))"
   ]
  },
  {
   "cell_type": "markdown",
   "metadata": {},
   "source": [
    "### filter和map操作\n",
    "* filter(func,list)  \n",
    "对于list中的每个元素，如果func的返回值为True，则保留，否则去掉，形成一个新的list  \n",
    "注意：filter时只是返回一个filter对象，只是一个生成器，需要list才能得到实际列表\n",
    "* map(func,list)  \n",
    "对于list中的每个元素，作为func的输入参数，返回值形成一个新的list  \n",
    "注意：map时只是返回一个map对象，只是一个生成器，需要list才能得到实际列表"
   ]
  },
  {
   "cell_type": "code",
   "execution_count": 2,
   "metadata": {},
   "outputs": [
    {
     "data": {
      "text/plain": [
       "([2, 3, 4], ['0', '1', '2', '3', '4', '-1', '-5', '-3', '-4'])"
      ]
     },
     "execution_count": 2,
     "metadata": {},
     "output_type": "execute_result"
    }
   ],
   "source": [
    "list1=[0, 1, 2, 3, 4, -1, -5, -3, -4]\n",
    "def test(x):\n",
    "    if x>1:\n",
    "        return True\n",
    "    return False\n",
    "list(filter(test,list1)),\\\n",
    "list(map(str,list1))#['0', '1', '2', '3', '4', '-1', '-5', '-3', '-4']"
   ]
  },
  {
   "cell_type": "code",
   "execution_count": null,
   "metadata": {},
   "outputs": [],
   "source": [
    "#map接收多个参数\n",
    "list(map(str,list1,list2))"
   ]
  },
  {
   "cell_type": "code",
   "execution_count": null,
   "metadata": {},
   "outputs": [],
   "source": [
    "list1.extend([-1,-5,-3,-4])\n",
    "#逆序列表中的元素\n",
    "list(reversed(list1))#[-4, -3, -5, -1, 4, 3, 2, 1, 0]\n",
    "#从小到大排列列表中的元素\n",
    "sorted(list1)#[-5, -4, -3, -1, 0, 1, 2, 3, 4]\n",
    "#按照绝对值从小到大排列\n",
    "sorted(list1,key=abs)#[0, 1, -1, 2, 3, -3, 4, -4, -5]\n",
    "#求和\n",
    "sum(list1)#-3"
   ]
  },
  {
   "cell_type": "markdown",
   "metadata": {},
   "source": [
    "### 删除list1中同时在list2中存在的数据"
   ]
  },
  {
   "cell_type": "code",
   "execution_count": null,
   "metadata": {},
   "outputs": [],
   "source": [
    "[i for i in list1 if i not in list2]"
   ]
  },
  {
   "cell_type": "code",
   "execution_count": null,
   "metadata": {},
   "outputs": [],
   "source": []
  }
 ],
 "metadata": {
  "kernelspec": {
   "display_name": "Python 3",
   "language": "python",
   "name": "python3"
  },
  "language_info": {
   "codemirror_mode": {
    "name": "ipython",
    "version": 3
   },
   "file_extension": ".py",
   "mimetype": "text/x-python",
   "name": "python",
   "nbconvert_exporter": "python",
   "pygments_lexer": "ipython3",
   "version": "3.6.5"
  }
 },
 "nbformat": 4,
 "nbformat_minor": 2
}
