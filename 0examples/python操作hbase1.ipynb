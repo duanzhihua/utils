{
 "cells": [
  {
   "cell_type": "markdown",
   "metadata": {},
   "source": [
    "https://blog.csdn.net/luanpeng825485697/article/details/81048468"
   ]
  },
  {
   "cell_type": "code",
   "execution_count": 1,
   "metadata": {},
   "outputs": [],
   "source": [
    "from thrift.transport import TSocket,TTransport\n",
    "from thrift.protocol import TBinaryProtocol\n",
    "from hbase import Hbase"
   ]
  },
  {
   "cell_type": "code",
   "execution_count": 2,
   "metadata": {},
   "outputs": [
    {
     "name": "stdout",
     "output_type": "stream",
     "text": [
      "['mysql_hbase', 'mytable', 'mytable2', 'oracle_hbase', 'table2', 'tablesplit', 'tbl_1', 'tbl_2', 'test4']\n"
     ]
    }
   ],
   "source": [
    "# thrift默认端口是9090\n",
    "socket = TSocket.TSocket('h1',9090)\n",
    "socket.setTimeout(50000)\n",
    "\n",
    "transport = TTransport.TBufferedTransport(socket)\n",
    "protocol = TBinaryProtocol.TBinaryProtocol(transport)\n",
    "\n",
    "client = Hbase.Client(protocol)\n",
    "socket.open()\n",
    "\n",
    "print(client.getTableNames())  # 获取当前所有的表名"
   ]
  },
  {
   "cell_type": "code",
   "execution_count": 4,
   "metadata": {},
   "outputs": [],
   "source": [
    "from hbase.ttypes import ColumnDescriptor\n",
    "\n",
    "# 定义列族\n",
    "column = ColumnDescriptor(name='cf')\n",
    "# 创建表\n",
    "client.createTable('test5',[column])"
   ]
  },
  {
   "cell_type": "code",
   "execution_count": 5,
   "metadata": {},
   "outputs": [
    {
     "name": "stdout",
     "output_type": "stream",
     "text": [
      "['mytable', 'mytable2', 'table2', 'tablesplit', 'tbl_1', 'tbl_2', 'test4', 'test5']\n"
     ]
    }
   ],
   "source": [
    "print(client.getTableNames())  # 获取当前所有的表名"
   ]
  },
  {
   "cell_type": "code",
   "execution_count": 6,
   "metadata": {},
   "outputs": [],
   "source": [
    "# 禁用表，若表之前未被启用将会引发IOError错误\n",
    "client.disableTable('test5')"
   ]
  },
  {
   "cell_type": "code",
   "execution_count": 7,
   "metadata": {},
   "outputs": [
    {
     "data": {
      "text/plain": [
       "False"
      ]
     },
     "execution_count": 7,
     "metadata": {},
     "output_type": "execute_result"
    }
   ],
   "source": [
    "client.isTableEnabled('test5')"
   ]
  },
  {
   "cell_type": "code",
   "execution_count": 8,
   "metadata": {},
   "outputs": [],
   "source": [
    "# 启用表，若表之前未被禁用将会引发IOError错误\n",
    "client.enableTable('test5')"
   ]
  },
  {
   "cell_type": "code",
   "execution_count": 9,
   "metadata": {},
   "outputs": [
    {
     "data": {
      "text/plain": [
       "True"
      ]
     },
     "execution_count": 9,
     "metadata": {},
     "output_type": "execute_result"
    }
   ],
   "source": [
    "client.isTableEnabled('test5')"
   ]
  },
  {
   "cell_type": "code",
   "execution_count": 10,
   "metadata": {},
   "outputs": [
    {
     "data": {
      "text/plain": [
       "['mytable',\n",
       " 'mytable2',\n",
       " 'table2',\n",
       " 'tablesplit',\n",
       " 'tbl_1',\n",
       " 'tbl_2',\n",
       " 'test4',\n",
       " 'test5']"
      ]
     },
     "execution_count": 10,
     "metadata": {},
     "output_type": "execute_result"
    }
   ],
   "source": [
    "client.getTableNames()"
   ]
  },
  {
   "cell_type": "code",
   "execution_count": 12,
   "metadata": {},
   "outputs": [
    {
     "data": {
      "text/plain": [
       "{'cf:': ColumnDescriptor(name='cf:', maxVersions=3, compression='NONE', inMemory=False, bloomFilterType='NONE', bloomFilterVectorSize=0, bloomFilterNbHashes=0, blockCacheEnabled=False, timeToLive=2147483647)}"
      ]
     },
     "execution_count": 12,
     "metadata": {},
     "output_type": "execute_result"
    }
   ],
   "source": [
    "client.getColumnDescriptors('test5')#获取所有列族信息，返回一个字典 "
   ]
  },
  {
   "cell_type": "code",
   "execution_count": 13,
   "metadata": {},
   "outputs": [
    {
     "data": {
      "text/plain": [
       "[]"
      ]
     },
     "execution_count": 13,
     "metadata": {},
     "output_type": "execute_result"
    }
   ],
   "source": [
    "client.getTableRegions('test')#获取所有与表关联的regions，返回一个TRegionInfo对象列表 "
   ]
  },
  {
   "cell_type": "code",
   "execution_count": 15,
   "metadata": {},
   "outputs": [],
   "source": [
    "# 表不存在将会引发IOError(message='java.io.IOException: table does not exist...)错误\n",
    "# 表未被禁用将会引发IOError(message='org.apache.hadoop.hbase.TableNotDisabledException:...)错误\n",
    "client.disableTable('test5')\n",
    "client.deleteTable('test5')"
   ]
  },
  {
   "cell_type": "code",
   "execution_count": 16,
   "metadata": {},
   "outputs": [
    {
     "data": {
      "text/plain": [
       "['mytable', 'mytable2', 'table2', 'tablesplit', 'tbl_1', 'tbl_2', 'test4']"
      ]
     },
     "execution_count": 16,
     "metadata": {},
     "output_type": "execute_result"
    }
   ],
   "source": [
    "client.getTableNames()"
   ]
  },
  {
   "cell_type": "code",
   "execution_count": 22,
   "metadata": {},
   "outputs": [
    {
     "name": "stdout",
     "output_type": "stream",
     "text": [
      "1532504076816\n",
      "zhangsan\n",
      "[TCell(value='zhangsan', timestamp=1532504076816)]\n"
     ]
    }
   ],
   "source": [
    "result = client.get('table2','rk001','info:name')       # 为一个列表，其中只有一个hbase.ttypes.TCell对象的数据\n",
    "print (result[0].timestamp)\n",
    "print (result[0].value)\n",
    "print(result)"
   ]
  },
  {
   "cell_type": "code",
   "execution_count": 28,
   "metadata": {},
   "outputs": [
    {
     "name": "stdout",
     "output_type": "stream",
     "text": [
      "[TCell(value='zhangsan', timestamp=1532504076816)]\n"
     ]
    }
   ],
   "source": [
    "result = client.getVer('table2','rk001','info:name',2)       # 为一个列表，其中只有一个hbase.ttypes.TCell对象的数据\n",
    "print(result)"
   ]
  },
  {
   "cell_type": "code",
   "execution_count": 29,
   "metadata": {},
   "outputs": [
    {
     "name": "stdout",
     "output_type": "stream",
     "text": [
      "[TCell(value='zhangsan', timestamp=1532504076816)]\n"
     ]
    }
   ],
   "source": [
    "result = client.getVer('table2','rk001','info:name',3)       # 为一个列表，其中只有一个hbase.ttypes.TCell对象的数据\n",
    "print(result)"
   ]
  },
  {
   "cell_type": "code",
   "execution_count": 31,
   "metadata": {},
   "outputs": [
    {
     "name": "stdout",
     "output_type": "stream",
     "text": [
      "[TCell(value='zhangsan', timestamp=1532504076816)]\n"
     ]
    }
   ],
   "source": [
    "#获取小于当前时间戳的数据列表\n",
    "result = client.getVerTs('table2','rk001','info:name',1532504076817,2)       # 为一个列表，其中只有一个hbase.ttypes.TCell对象的数据\n",
    "print(result)"
   ]
  },
  {
   "cell_type": "code",
   "execution_count": 34,
   "metadata": {},
   "outputs": [
    {
     "data": {
      "text/plain": [
       "[TRowResult(row='rk001', columns={'info:name': TCell(value='zhangsan', timestamp=1532504076816)})]"
      ]
     },
     "execution_count": 34,
     "metadata": {},
     "output_type": "execute_result"
    }
   ],
   "source": [
    "result = client.getRow('table2','rk001')  \n",
    "result"
   ]
  },
  {
   "cell_type": "code",
   "execution_count": 36,
   "metadata": {},
   "outputs": [
    {
     "data": {
      "text/plain": [
       "[TRowResult(row='rk001', columns={'info:name': TCell(value='zhangsan', timestamp=1532504076816)})]"
      ]
     },
     "execution_count": 36,
     "metadata": {},
     "output_type": "execute_result"
    }
   ],
   "source": [
    "result = client.getRowWithColumns('table2','rk001',['info:name'])\n",
    "result"
   ]
  },
  {
   "cell_type": "code",
   "execution_count": 39,
   "metadata": {},
   "outputs": [
    {
     "name": "stdout",
     "output_type": "stream",
     "text": [
      "[TRowResult(row='rk001', columns={'info:name': TCell(value='zhangsan', timestamp=1532504076816)})]\n"
     ]
    }
   ],
   "source": [
    "result = client.getRowTs('table2','rk001',1532504076817)       # 为一个列表，其中只有一个hbase.ttypes.TCell对象的数据\n",
    "print(result)"
   ]
  },
  {
   "cell_type": "code",
   "execution_count": 40,
   "metadata": {},
   "outputs": [
    {
     "data": {
      "text/plain": [
       "[TRowResult(row='rk001', columns={'info:name': TCell(value='zhangsan', timestamp=1532504076816)})]"
      ]
     },
     "execution_count": 40,
     "metadata": {},
     "output_type": "execute_result"
    }
   ],
   "source": [
    "result = client.getRowWithColumnsTs('table2','rk001',['info:name'],1532504076817)\n",
    "result"
   ]
  },
  {
   "cell_type": "code",
   "execution_count": 44,
   "metadata": {},
   "outputs": [],
   "source": [
    "from hbase.ttypes import Mutation\n",
    "\n",
    "mutation = Mutation(column='info:name',value='zhangsan5')\n",
    "\n",
    "# 插入数据。如果在test表中row行cf:a列存在，将覆盖\n",
    "client.mutateRow('table2','rk005',[mutation])"
   ]
  },
  {
   "cell_type": "code",
   "execution_count": 47,
   "metadata": {},
   "outputs": [],
   "source": [
    "from hbase.ttypes import Mutation\n",
    "# value必须为字符串格式，否则将报错\n",
    "mutation = Mutation(column='info:name',value='zhangsan6')\n",
    "client.mutateRowTs('table2','rk006',[mutation],1532504076817)"
   ]
  },
  {
   "cell_type": "code",
   "execution_count": 51,
   "metadata": {},
   "outputs": [],
   "source": [
    "from hbase.ttypes import Mutation,BatchMutation\n",
    "mutation1 = Mutation(column='info:name',value='zhangsan7')\n",
    "mutation2 = Mutation(column='info:name',value='zhangsan71')\n",
    "batchMutation = BatchMutation('rk007',[mutation1,mutation2])\n",
    "client.mutateRows('table2',[batchMutation])"
   ]
  },
  {
   "cell_type": "code",
   "execution_count": 52,
   "metadata": {},
   "outputs": [],
   "source": [
    "from hbase.ttypes import Mutation,BatchMutation\n",
    "mutation1 = Mutation(column='info:name',value='zhangsan8')\n",
    "mutation2 = Mutation(column='info:name',value='zhangsan81')\n",
    "batchMutation = BatchMutation('rk008',[mutation1,mutation2])\n",
    "client.mutateRowsTs('table2',[batchMutation],1532504076817)"
   ]
  },
  {
   "cell_type": "code",
   "execution_count": 55,
   "metadata": {},
   "outputs": [],
   "source": [
    "client.deleteAllRow('table2','rk006')"
   ]
  },
  {
   "cell_type": "code",
   "execution_count": 59,
   "metadata": {},
   "outputs": [
    {
     "data": {
      "text/plain": [
       "1"
      ]
     },
     "execution_count": 59,
     "metadata": {},
     "output_type": "execute_result"
    }
   ],
   "source": [
    "scannerId = client.scannerOpen('table2','rk002',['info:name'])\n",
    "scannerId"
   ]
  },
  {
   "cell_type": "code",
   "execution_count": null,
   "metadata": {},
   "outputs": [],
   "source": []
  }
 ],
 "metadata": {
  "kernelspec": {
   "display_name": "Python 3",
   "language": "python",
   "name": "python3"
  },
  "language_info": {
   "codemirror_mode": {
    "name": "ipython",
    "version": 3
   },
   "file_extension": ".py",
   "mimetype": "text/x-python",
   "name": "python",
   "nbconvert_exporter": "python",
   "pygments_lexer": "ipython3",
   "version": "3.6.5"
  }
 },
 "nbformat": 4,
 "nbformat_minor": 2
}
