{
 "cells": [
  {
   "cell_type": "code",
   "execution_count": 17,
   "metadata": {},
   "outputs": [],
   "source": [
    "# 使用前需要启动hbase和thrift服务器\n",
    "from thrift.transport import TSocket,TTransport\n",
    "from thrift.protocol import TBinaryProtocol\n",
    "from hbase import Hbase\n",
    "\n",
    "# thrift默认端口是9090\n",
    "socket = TSocket.TSocket('h1',9090)\n",
    "socket.setTimeout(5000)\n",
    "\n",
    "transport = TTransport.TBufferedTransport(socket)\n",
    "protocol = TBinaryProtocol.TBinaryProtocol(transport)\n",
    "\n",
    "client = Hbase.Client(protocol)\n",
    "socket.open()"
   ]
  },
  {
   "cell_type": "code",
   "execution_count": 2,
   "metadata": {},
   "outputs": [
    {
     "name": "stdout",
     "output_type": "stream",
     "text": [
      "所有表格 ['mytable', 'mytable2', 'table2', 'tablesplit', 'tbl_1', 'tbl_2', 'test4']\n",
      "创建表test\n"
     ]
    }
   ],
   "source": [
    "# print(client.get('table1','row1','cf:a'))\n",
    "\n",
    "from hbase.ttypes import ColumnDescriptor\n",
    "\n",
    "alltable = client.getTableNames()   # 获取所有表名\n",
    "print('所有表格',alltable)\n",
    "if('test' in alltable):\n",
    "    allcf = client.getColumnDescriptors('test')  # 获取表的所有列族\n",
    "    print('test表的列族',allcf)\n",
    "    allregions = client.getTableRegions('test') # 获取所有与表关联的regions\n",
    "    print('test表的所有regions',allregions)\n",
    "else:\n",
    "    column1 = ColumnDescriptor(name='cf1')    # 定义列族\n",
    "    column3 = ColumnDescriptor(name='cf2')  # 定义列族\n",
    "    client.createTable('test', [column1,column3])   # 创建表\n",
    "    print('创建表test')"
   ]
  },
  {
   "cell_type": "code",
   "execution_count": 3,
   "metadata": {},
   "outputs": [],
   "source": [
    "# 验证表是否被启用\n",
    "if(not client.isTableEnabled('test')):\n",
    "    client.enableTable('test')  # 启用表\n",
    "    print('启用表test')\n"
   ]
  },
  {
   "cell_type": "code",
   "execution_count": 4,
   "metadata": {},
   "outputs": [
    {
     "name": "stdout",
     "output_type": "stream",
     "text": [
      "插入数据\n"
     ]
    }
   ],
   "source": [
    "# ＝＝＝＝＝＝＝插入/修改数据＝＝＝＝＝＝＝\n",
    "from hbase.ttypes import Mutation\n",
    "\n",
    "mutation = Mutation(column='cf1:a', value='1')\n",
    "\n",
    "# 插入数据。如果在test表中row行cf1:a列存在，将覆盖\n",
    "client.mutateRow('test', 'row1', [mutation])  # 在表中指定行执行一系列的变化操作。\n",
    "client.mutateRowTs('test','row2',[mutation],1513070735669)  # 可以自己添加时间戳\n",
    "print('插入数据')"
   ]
  },
  {
   "cell_type": "code",
   "execution_count": 14,
   "metadata": {},
   "outputs": [
    {
     "name": "stdout",
     "output_type": "stream",
     "text": [
      "插入数据\n"
     ]
    }
   ],
   "source": [
    "from hbase.ttypes import Mutation,BatchMutation\n",
    "mutation1 = Mutation(column='cf1:b',value='2')\n",
    "mutation2 = Mutation(column='cf2:a',value='3')\n",
    "mutation3 = Mutation(column='cf2:b',value='4')\n",
    "batchMutation = BatchMutation('row3',[mutation1,mutation2,mutation3])\n",
    "client.mutateRows('test',[batchMutation])   # 在表中执行一系列批次(单个行上的一系列突变)\n",
    "client.mutateRowsTs('test',[batchMutation],timestamp=1513135651874)  # 也可以自己添加时间戳\n",
    "print('插入数据')"
   ]
  },
  {
   "cell_type": "code",
   "execution_count": 8,
   "metadata": {},
   "outputs": [
    {
     "name": "stdout",
     "output_type": "stream",
     "text": [
      "1\n"
     ]
    }
   ],
   "source": [
    "result = client.atomicIncrement('test','row1','cf1:c',1)  # 原子递增的列进行一次递增。返回当前列的值\n",
    "print(result)"
   ]
  },
  {
   "cell_type": "code",
   "execution_count": 16,
   "metadata": {},
   "outputs": [
    {
     "name": "stdout",
     "output_type": "stream",
     "text": [
      "[TCell(value='1', timestamp=1534486740151)]\n",
      "[TCell(value='1', timestamp=1534486740151)]\n",
      "[]\n"
     ]
    }
   ],
   "source": [
    "# ============获取数据=========\n",
    "result = client.get('test', 'row1', 'cf1:a')  # 为一个列表，其中只有一个hbase.ttypes.TCell对象的数据\n",
    "print(result)\n",
    "result = client.getVer('test', 'row1', 'cf1:a', numVersions = 2)  # 为一个列表，其中只有一个hbase.ttypes.TCell对象的数据\n",
    "print(result)\n",
    "result = client.getVerTs('test', 'row1', 'cf1:a', timestamp=0,numVersions = 2)  # 为一个列表，其中只有一个hbase.ttypes.TCell对象的数据\n",
    "print(result)"
   ]
  },
  {
   "cell_type": "code",
   "execution_count": 18,
   "metadata": {},
   "outputs": [
    {
     "name": "stdout",
     "output_type": "stream",
     "text": [
      "行索引: row1\n",
      "列值: 1\n",
      "时间戳: 1534486740151\n"
     ]
    }
   ],
   "source": [
    "# 行\n",
    "row = 'row1'\n",
    "# 列\n",
    "column = 'cf1:a'\n",
    "# 查询结果\n",
    "result = client.getRow('test',row)      # result为一个列表，获取表中指定行在最新时间戳上的数据\n",
    "for item in result:                     # item为hbase.ttypes.TRowResult对象\n",
    "    print('行索引:',item.row)\n",
    "    print('列值:',item.columns.get(column).value)        # 获取值。item.columns.get('cf:a')为一个hbase.ttypes.TCell对象\n",
    "    print('时间戳:',item.columns.get(column).timestamp)    # 获取时间戳。item.columns.get('cf:a')为一个hbase.ttypes.TCell对象"
   ]
  },
  {
   "cell_type": "code",
   "execution_count": 19,
   "metadata": {},
   "outputs": [
    {
     "name": "stdout",
     "output_type": "stream",
     "text": [
      "行索引: row1\n",
      "cf1:a列值: 1\n",
      "时间戳: 1534486740151\n"
     ]
    }
   ],
   "source": [
    "# 获取指定行指定列上的数据\n",
    "result = client.getRowWithColumns('test','row1',['cf1:a','cf2:a'])  #获取表中指定行与指定列在最新时间戳上的数据\n",
    "for item in result:\n",
    "    print('行索引:',item.row)\n",
    "    cf1_a = item.columns.get('cf1:a')\n",
    "    if (cf1_a != None):\n",
    "        print('cf1:a列值:',cf1_a.value)\n",
    "        print('时间戳:',cf1_a.timestamp)\n",
    "    cf2_a = item.columns.get('cf2:a')\n",
    "    if(cf2_a!=None):\n",
    "        print('cf2:a列值:',cf2_a.value)\n",
    "        print('时间戳:',cf2_a.timestamp)"
   ]
  },
  {
   "cell_type": "code",
   "execution_count": 20,
   "metadata": {},
   "outputs": [
    {
     "name": "stdout",
     "output_type": "stream",
     "text": [
      "[]\n",
      "[TRowResult(row='row3', columns={'cf1:b': TCell(value='2', timestamp=1534487149449), 'cf2:a': TCell(value='3', timestamp=1534487149449)})]\n"
     ]
    }
   ],
   "source": [
    "result = client.getRowWithColumnsTs('test','row1',['cf1:a','cf1:b','cf2:a'],1513069831512)  # 获取指定行与指定列，并且小于这个时间戳的所有数据\n",
    "print(result)\n",
    "\n",
    "# ==============扫描数据==================\n",
    "scannerId = client.scannerOpen('test','row1',[\"cf1:b\",\"cf2:a\"])   # 在指定表中，从指定行开始扫描，到表中最后一行结束，扫描指定列的数据。\n",
    "scannerId = client.scannerOpenTs('test','row1',[\"cf1:b\",\"cf2:a\"],timestamp=1513579065365)  # 在指定表中，从指定行开始扫描，获取所有小于指定时间戳的所有数据，扫描指定列的数据\n",
    "scannerId = client.scannerOpenWithStop('test','row1','row2',[\"cf1:b\",\"cf2:a\"])   # 在指定表中，从指定行开始扫描，扫描到结束行结束(并不获取指定行的数据)，扫描指定列的数据\n",
    "scannerId = client.scannerOpenWithStopTs('test','row1','row2',[\"cf1:b\",\"cf2:a\"],timestamp=1513579065365)  # 获取所有小于指定时间戳的所有数据\n",
    "scannerId = client.scannerOpenWithPrefix('test','row',[\"cf1:b\",\"cf2:a\"])   #在指定表中，扫描具有指定前缀的行，扫描指定列的数据\n",
    "\n",
    "while True:\n",
    "    result = client.scannerGet(scannerId)   # 根据ScannerID来获取结果\n",
    "    if not result:\n",
    "        break\n",
    "    print(result)\n",
    "\n",
    "result = client.scannerGetList(scannerId,2)   # 根据ScannerID来获取指定数量的结果\n",
    "\n",
    "client.scannerClose(scannerId)  # 关闭扫描器"
   ]
  },
  {
   "cell_type": "code",
   "execution_count": 22,
   "metadata": {},
   "outputs": [
    {
     "name": "stdout",
     "output_type": "stream",
     "text": [
      "禁用表test\n",
      "删除表test\n"
     ]
    }
   ],
   "source": [
    "# ===============删除数据＝＝＝＝＝＝＝＝＝＝＝＝＝＝\n",
    "client.deleteAll('test','row1','cf1:a')  # 删除指定表指定行与指定列的所有数据\n",
    "client.deleteAllTs('test','row1','cf2:a',timestamp=1513569725685)  # 删除指定表指定行与指定列中，小于等于指定时间戳的所有数据\n",
    "client.deleteAllRowTs('test','row1',timestamp=1513568619326)   # 删除指定表指定行中，小于等于此时间戳的所有数据\n",
    "client.deleteAllRow('test','row1')  # 删除整行数据\n",
    "if(client.isTableEnabled('test')):\n",
    "    client.disableTable('test')\n",
    "    print('禁用表test')\n",
    "    client.deleteTable('test')  # 删除表.必须确保表存在,且被禁用\n",
    "    print('删除表test')\n"
   ]
  },
  {
   "cell_type": "code",
   "execution_count": null,
   "metadata": {},
   "outputs": [],
   "source": []
  }
 ],
 "metadata": {
  "kernelspec": {
   "display_name": "Python 3",
   "language": "python",
   "name": "python3"
  },
  "language_info": {
   "codemirror_mode": {
    "name": "ipython",
    "version": 3
   },
   "file_extension": ".py",
   "mimetype": "text/x-python",
   "name": "python",
   "nbconvert_exporter": "python",
   "pygments_lexer": "ipython3",
   "version": "3.6.5"
  }
 },
 "nbformat": 4,
 "nbformat_minor": 2
}
