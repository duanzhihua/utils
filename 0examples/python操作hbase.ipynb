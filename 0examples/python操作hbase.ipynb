{
 "cells": [
  {
   "cell_type": "code",
   "execution_count": 1,
   "metadata": {},
   "outputs": [],
   "source": [
    "from thrift.transport import TSocket,TTransport\n",
    "from thrift.protocol import TBinaryProtocol\n",
    "from hbase import Hbase"
   ]
  },
  {
   "cell_type": "code",
   "execution_count": 2,
   "metadata": {},
   "outputs": [
    {
     "name": "stdout",
     "output_type": "stream",
     "text": [
      "['mytable', 'mytable2', 'table2', 'tablesplit', 'tbl_1', 'tbl_2']\n"
     ]
    }
   ],
   "source": [
    "# thrift默认端口是9090\n",
    "socket = TSocket.TSocket('h1',9090)\n",
    "socket.setTimeout(5000)\n",
    "\n",
    "transport = TTransport.TBufferedTransport(socket)\n",
    "protocol = TBinaryProtocol.TBinaryProtocol(transport)\n",
    "\n",
    "client = Hbase.Client(protocol)\n",
    "socket.open()\n",
    "\n",
    "print(client.getTableNames())  # 获取当前所有的表名"
   ]
  },
  {
   "cell_type": "code",
   "execution_count": null,
   "metadata": {},
   "outputs": [],
   "source": []
  }
 ],
 "metadata": {
  "kernelspec": {
   "display_name": "Python 3",
   "language": "python",
   "name": "python3"
  },
  "language_info": {
   "codemirror_mode": {
    "name": "ipython",
    "version": 3
   },
   "file_extension": ".py",
   "mimetype": "text/x-python",
   "name": "python",
   "nbconvert_exporter": "python",
   "pygments_lexer": "ipython3",
   "version": "3.6.5"
  }
 },
 "nbformat": 4,
 "nbformat_minor": 2
}
