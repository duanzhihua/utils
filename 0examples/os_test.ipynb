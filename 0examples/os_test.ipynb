{
 "cells": [
  {
   "cell_type": "code",
   "execution_count": 2,
   "metadata": {},
   "outputs": [],
   "source": [
    "import os"
   ]
  },
  {
   "cell_type": "markdown",
   "metadata": {},
   "source": [
    "### os.path"
   ]
  },
  {
   "cell_type": "code",
   "execution_count": 5,
   "metadata": {},
   "outputs": [
    {
     "data": {
      "text/plain": [
       "'/home/ian/code/github/utils/0examples/aa.txt'"
      ]
     },
     "execution_count": 5,
     "metadata": {},
     "output_type": "execute_result"
    }
   ],
   "source": [
    "#获取绝对路径\n",
    "os.path.abspath('aa.txt')"
   ]
  },
  {
   "cell_type": "code",
   "execution_count": 3,
   "metadata": {},
   "outputs": [
    {
     "data": {
      "text/plain": [
       "'/home/ian/code/github/utils'"
      ]
     },
     "execution_count": 3,
     "metadata": {},
     "output_type": "execute_result"
    }
   ],
   "source": [
    "os.path.dirname(os.path.abspath('.'))"
   ]
  },
  {
   "cell_type": "code",
   "execution_count": 7,
   "metadata": {},
   "outputs": [
    {
     "data": {
      "text/plain": [
       "'ian/code/github/utils'"
      ]
     },
     "execution_count": 7,
     "metadata": {},
     "output_type": "execute_result"
    }
   ],
   "source": [
    "os.path.dirname('ian/code/github/utils/0examples')"
   ]
  },
  {
   "cell_type": "code",
   "execution_count": 8,
   "metadata": {},
   "outputs": [
    {
     "data": {
      "text/plain": [
       "'ian/code/github/utils/0examples'"
      ]
     },
     "execution_count": 8,
     "metadata": {},
     "output_type": "execute_result"
    }
   ],
   "source": [
    "os.path.join('ian/code/','github/utils/0examples')"
   ]
  },
  {
   "cell_type": "code",
   "execution_count": 9,
   "metadata": {},
   "outputs": [
    {
     "data": {
      "text/plain": [
       "'ian/code/github/utils/0examples'"
      ]
     },
     "execution_count": 9,
     "metadata": {},
     "output_type": "execute_result"
    }
   ],
   "source": [
    "os.path.join('ian/code','github/utils/0examples')"
   ]
  },
  {
   "cell_type": "code",
   "execution_count": 10,
   "metadata": {},
   "outputs": [
    {
     "data": {
      "text/plain": [
       "'/github/utils/0examples'"
      ]
     },
     "execution_count": 10,
     "metadata": {},
     "output_type": "execute_result"
    }
   ],
   "source": [
    "os.path.join('ian/code','/github/utils/0examples')"
   ]
  },
  {
   "cell_type": "markdown",
   "metadata": {},
   "source": [
    "### os文件遍历"
   ]
  },
  {
   "cell_type": "code",
   "execution_count": 13,
   "metadata": {},
   "outputs": [
    {
     "name": "stdout",
     "output_type": "stream",
     "text": [
      "<generator object walk at 0x7fd46ef038e0>\n"
     ]
    }
   ],
   "source": [
    "import os  \n",
    "a = os.walk('.')\n",
    "print(a)"
   ]
  },
  {
   "cell_type": "code",
   "execution_count": 14,
   "metadata": {},
   "outputs": [
    {
     "name": "stdout",
     "output_type": "stream",
     "text": [
      "[('.', ['.ipynb_checkpoints', 'spark-warehouse', 'data', 'time_series', 'pythonml', 'visualization', 'DL'], ['汉字转拼音.ipynb', '计算文本相似度.ipynb', '0 python自带的函数操作.ipynb', 'python中的日期操作.ipynb', 'listtest.ipynb', 'pickletest.ipynb', 'pandastest.ipynb', 'dicttest.ipynb', 'jiebatest.ipynb', '建立物品的同现矩阵.ipynb', '利用结巴提取文章关键字.ipynb', '基于双向LSTM和迁移学习的seq2seq核心实体识别.ipynb', 'word2vec_words_final.model', 'gensimtest.ipynb', 'model.tfidf', 'TensorFlow中的变量命名以及命名空间.ipynb', 'keras构建Sequential神经网络.ipynb', 'keras构建Functional神经网络.ipynb', '算法01：排序.ipynb', 'settest.ipynb', '在Python中实现你自己的推荐系统.ipynb', '如何在长短期记忆(LSTM)网络中利用TimeDistributed层.ipynb', 'python操作hbase1.ipynb', 'python操作hbase2.ipynb', '算法02：堆排序&快速排序.ipynb', 're_test.ipynb', 'md5加密.ipynb', 'os_test.ipynb', 'doc.csv', 'logging_test.ipynb', 'python操作oracle.ipynb', '提取一篇文档的特征.ipynb', 'pyspark_RDD.ipynb', 'pyspark_dataframe.ipynb', 'scipy_test.ipynb', 'string_test.ipynb', 'sys_test.ipynb', 'python文件读写.ipynb', 'test1.txt', 'pyltp_test.ipynb', 'pymongotest.ipynb', '多标签分类.ipynb', 'python操作mysql.ipynb', 'numpy_test.ipynb', 'Python 高级技巧：用一行代码减少一半内存占用.ipynb']), ('./.ipynb_checkpoints', [], ['汉字转拼音-checkpoint.ipynb', '计算文本相似度-checkpoint.ipynb', 'numpy_test-checkpoint.ipynb', '0 python自带的函数操作-checkpoint.ipynb', 'listtest-checkpoint.ipynb', 'pickletest-checkpoint.ipynb', 'pandastest-checkpoint.ipynb', 'dicttest-checkpoint.ipynb', 'jiebatest-checkpoint.ipynb', '建立物品的同现矩阵-checkpoint.ipynb', '利用结巴提取文章关键字-checkpoint.ipynb', '基于双向LSTM和迁移学习的seq2seq核心实体识别-checkpoint.ipynb', 'gensimtest-checkpoint.ipynb', 'TensorFlow中的变量命名以及命名空间-checkpoint.ipynb', 'keras构建Sequential神经网络-checkpoint.ipynb', 'keras构建Functional神经网络-checkpoint.ipynb', '算法01：排序-checkpoint.ipynb', '在Python中实现你自己的推荐系统-checkpoint.ipynb', '如何在长短期记忆(LSTM)网络中利用TimeDistributed层-checkpoint.ipynb', 'python操作hbase1-checkpoint.ipynb', 'python操作hbase2-checkpoint.ipynb', '算法02：堆排序&快速排序-checkpoint.ipynb', 'python中的日期操作-checkpoint.ipynb', 're_test-checkpoint.ipynb', 'md5加密-checkpoint.ipynb', 'os_test-checkpoint.ipynb', 'Python 高级技巧：用一行代码减少一半内存占用-checkpoint.ipynb', 'logging_test-checkpoint.ipynb', 'python操作oracle-checkpoint.ipynb', '提取一篇文档的特征-checkpoint.ipynb', 'pyspark_RDD-checkpoint.ipynb', 'pyspark_dataframe-checkpoint.ipynb', 'scipy_test-checkpoint.ipynb', 'string_test-checkpoint.ipynb', 'sys_test-checkpoint.ipynb', 'python文件读写-checkpoint.ipynb', 'pyltp_test-checkpoint.ipynb', 'python操作mysql-checkpoint.ipynb', 'pymongotest-checkpoint.ipynb', '多标签分类-checkpoint.ipynb', 'settest-checkpoint.ipynb']), ('./spark-warehouse', [], []), ('./data', [], ['tmc2007_train.svm', 'tmc2007_test.svm', 'china.png']), ('./time_series', ['.ipynb_checkpoints'], ['ChinaBank.csv', '时间序列预测模型-ARIMA原理及Python实现！.ipynb']), ('./time_series/.ipynb_checkpoints', [], ['时间序列预测模型-ARIMA原理及Python实现！-checkpoint.ipynb']), ('./pythonml', ['.ipynb_checkpoints'], ['sklearn做(广义)线性回归.ipynb', '朴素贝叶斯分类器详解及中文文本舆情分析.ipynb', 'logistic回归.ipynb', 'K-means & K-median & DBSCAN.ipynb', 'KNN.ipynb', 'Decision Tree.ipynb']), ('./pythonml/.ipynb_checkpoints', [], ['sklearn做(广义)线性回归-checkpoint.ipynb', '朴素贝叶斯分类器详解及中文文本舆情分析-checkpoint.ipynb', 'logistic回归-checkpoint.ipynb', 'K-means & K-median & DBSCAN-checkpoint.ipynb', 'KNN-checkpoint.ipynb', 'Decision Tree-checkpoint.ipynb']), ('./visualization', ['.ipynb_checkpoints'], ['pyecharts可视化示例-鸢尾花数据集.ipynb', 'pyecharts treemap.ipynb', 'render.html']), ('./visualization/.ipynb_checkpoints', [], ['pyecharts可视化示例-鸢尾花数据集-checkpoint.ipynb', 'pyecharts treemap-checkpoint.ipynb']), ('./DL', ['.ipynb_checkpoints', '__pycache__'], ['LSTM实现.ipynb', 'RNN实现.ipynb', 'myrnn.py', 'tokenFile.py', 'tangshi.txt', 'nofbb1.jpg', 'fbb2.jpg', 'fbb1.jpg', 'fbb3.jpg', 'tly3.jpg', 'tly1.jpg', 'tly2.jpg', '计算人脸相似度.ipynb', 'BP实现.ipynb', 'annual meeting.ipynb', 'error_list.pkl', 'tt.jpg', 'tt1.jpg', 'new.jpg', 'me.jpg', 'yaoyuan.png', 'face_pool_498.npy', 'face_wd_498.csv', '图像矫正.ipynb', 'rmb.png']), ('./DL/.ipynb_checkpoints', [], ['LSTM实现-checkpoint.ipynb', 'RNN实现-checkpoint.ipynb', '计算人脸相似度-checkpoint.ipynb', 'BP实现-checkpoint.ipynb', 'annual meeting-checkpoint.ipynb', '图像矫正-checkpoint.ipynb']), ('./DL/__pycache__', [], ['myrnn.cpython-36.pyc'])]\n"
     ]
    }
   ],
   "source": [
    "print(list(a))"
   ]
  },
  {
   "cell_type": "code",
   "execution_count": 1,
   "metadata": {},
   "outputs": [],
   "source": [
    "import os  \n",
    "\n",
    "def file_name(file_dir):   \n",
    "    for root, dirs, files in os.walk(file_dir):  \n",
    "        print(root) #当前目录路径  \n",
    "        print(dirs) #当前路径下所有子目录  \n",
    "        print(files) #当前路径下所有非目录子文件\n",
    "        for f in files:\n",
    "            if f in ['课前必读.txt','学习路线.png','一起自学吧 - IT视频教程分享社区.url']:\n",
    "                os.remove(os.path.join(root,f))"
   ]
  },
  {
   "cell_type": "code",
   "execution_count": 2,
   "metadata": {},
   "outputs": [
    {
     "name": "stdout",
     "output_type": "stream",
     "text": [
      "/home/ian/code/github/utils\n",
      "['.git', '.ipynb_checkpoints', 'crawl', 'neo4j', 'nlp', 'pythonmodules', '__pycache__', 'ElasticSearch', '0examples', 'pandas', 'dl']\n",
      "['.gitignore', 'LICENSE', 'model_wrapper.py', 'numpy_wrapper.py', 'pandas_wrapper.py', 'pickle_wrapper.py', 'pymongo_wrapper.py', 'README.md', 'udf.py', 'sklearn_wrapper.py', 'pyspark_wrapper.py']\n",
      "/home/ian/code/github/utils/.git\n",
      "['hooks', 'info', 'logs', 'objects', 'refs']\n",
      "['COMMIT_EDITMSG', 'config', 'description', 'HEAD', 'index', 'packed-refs']\n",
      "/home/ian/code/github/utils/.git/hooks\n",
      "[]\n",
      "['applypatch-msg.sample', 'commit-msg.sample', 'fsmonitor-watchman.sample', 'post-update.sample', 'pre-applypatch.sample', 'pre-commit.sample', 'pre-push.sample', 'pre-rebase.sample', 'pre-receive.sample', 'prepare-commit-msg.sample', 'update.sample']\n",
      "/home/ian/code/github/utils/.git/info\n",
      "[]\n",
      "['exclude']\n",
      "/home/ian/code/github/utils/.git/logs\n",
      "['refs']\n",
      "['HEAD']\n",
      "/home/ian/code/github/utils/.git/logs/refs\n",
      "['heads', 'remotes']\n",
      "[]\n",
      "/home/ian/code/github/utils/.git/logs/refs/heads\n",
      "[]\n",
      "['master']\n",
      "/home/ian/code/github/utils/.git/logs/refs/remotes\n",
      "['origin']\n",
      "[]\n",
      "/home/ian/code/github/utils/.git/logs/refs/remotes/origin\n",
      "[]\n",
      "['HEAD', 'master']\n",
      "/home/ian/code/github/utils/.git/objects\n",
      "['01', '03', '06', '0c', '0e', '13', '17', '1a', '1b', '25', '2a', '2c', '2e', '30', '36', '3f', '43', '45', '4f', '52', '56', '58', '59', '67', '68', '6b', '6f', '7a', '7c', '7f', '89', '8a', '8b', '90', '93', '97', '9b', '9e', '9f', 'a0', 'a6', 'ab', 'ac', 'b1', 'ba', 'bb', 'c0', 'c3', 'c5', 'c6', 'd9', 'de', 'e6', 'ea', 'info', 'pack', '60', '29', '04', '91', '16', '80', '3e', '39', 'ae', 'bf', 'dc', 'ca', 'f6', '9a', '2f', '7d', '82', 'cf', 'fb', 'df', 'db', 'fd', '57', '8f', 'ad', 'cb', 'be', 'a4', '78', 'a2', 'f8', '14', '7e', '7b', 'ef', '1f', '71', 'e0', 'b3', '07', 'f0', '6c', '94', '49', 'a5', 'e2', 'c2', '11', '1d', 'c1', 'a1', '83', '10', '46', 'b7', '95', 'd4', 'e3', '81', '98', 'd2', '6a', 'e5', '0d', '02', '18', '87', 'c7', 'c4', 'f9', '08', '05', '0f', '31', '50', '40', '33', 'bd', 'a8', 'f7', '3c', 'cc', 'a3', '5f', 'b5', '9d', 'b8', 'a7', '77', '27', 'a9', '76', '0a', '2b', '84', 'd8', 'ed', '8c', '3d', 'd7', '38', '63', '24', '5b', 'c9', 'e9', 'd6', '23', '4a', '35', 'f2', '28', '44', '09', '62']\n",
      "[]\n",
      "/home/ian/code/github/utils/.git/objects/01\n",
      "[]\n",
      "['8a49d2a4d673d92fb6cb945c9cc41a74da7736', '24d784ca30d5ac455c9cd97ec2a94f2fff99a7', 'e1a49e8968e59d521f37f11ce8d23c3742a34c']\n",
      "/home/ian/code/github/utils/.git/objects/03\n",
      "[]\n",
      "['f0ea2dc36c275ce0a0b5551f39c43c659a3e79', 'f1990e210c87a5f0a3f3ff4434aee17dad8669']\n",
      "/home/ian/code/github/utils/.git/objects/06\n",
      "[]\n",
      "['3868241f6e7a2ccf5b782a804edeb22f2748fe']\n",
      "/home/ian/code/github/utils/.git/objects/0c\n",
      "[]\n",
      "['743f292d52e6ccd7d09d56fd2554843e03af3a']\n",
      "/home/ian/code/github/utils/.git/objects/0e\n",
      "[]\n",
      "['7a0aa030888f8770ef8d45bca53440aeab8e4d', 'e31922973d1581a661144b2c4823cc78314e56', '4745401f0994b0bd39c94b5aa50a03f7829a81', '74c7588a248acf296ba881cc52cfc3b3b5f0e7', 'bda7fb427b59f866783bee7ce0614fa84cd5cc']\n",
      "/home/ian/code/github/utils/.git/objects/13\n",
      "[]\n",
      "['01c697e87d2cbcaf89854a0a5a40c6bbf5b2c5', 'ee0515d83f8f61d4178d043b8de24c647199a4']\n",
      "/home/ian/code/github/utils/.git/objects/17\n",
      "[]\n",
      "['7c11a7220f8bbe360c09f7f3eeaeaf1fb3864b']\n",
      "/home/ian/code/github/utils/.git/objects/1a\n",
      "[]\n",
      "['03491a0544f4fc7469fda074307f3c562e2871', '13f9872555526d9ad8999dd1b1cf54d1abdab7']\n",
      "/home/ian/code/github/utils/.git/objects/1b\n",
      "[]\n",
      "['4df55a8d5d5b9bfca840ee41b03072a4fb662b', '95a3381247d48fa4374b01f0deca058d1bc67e']\n",
      "/home/ian/code/github/utils/.git/objects/25\n",
      "[]\n",
      "['e88255b79ea5425d58e77a31be868184e99ae1']\n",
      "/home/ian/code/github/utils/.git/objects/2a\n",
      "[]\n",
      "['fc08e0cb46f9bf629f7f16bcdda66e9c626c5b', 'e7f281da814c091da0293f517edbffc7dedb52', 'e16446be7d4cf73b14579566d8c6a6e3c12385']\n",
      "/home/ian/code/github/utils/.git/objects/2c\n",
      "[]\n",
      "['4148b4b3b265190453681c0bd99eb3f789c865', 'a2801505ac574fe4e9190edbd94497d33c76cf', '9c52ea0ec5800b6210fecdd862cf69e7d15e90', 'c07d03f72666191f0fda9621b04db8cb8a6f44']\n",
      "/home/ian/code/github/utils/.git/objects/2e\n",
      "[]\n",
      "['bddd86d4088dd8afd2f57505e8498eec93702e']\n",
      "/home/ian/code/github/utils/.git/objects/30\n",
      "[]\n",
      "['16d214522d94f943680525f304a2bee60556e8', 'e94da1dcdaf8feae6dff516c2b5fdbd742e300']\n",
      "/home/ian/code/github/utils/.git/objects/36\n",
      "[]\n",
      "['d055ee6d879d77bcf29a7232ffab941fef03c2']\n",
      "/home/ian/code/github/utils/.git/objects/3f\n",
      "[]\n",
      "['7dbe8d427396a1ba2ba86b8010566a37788f78']\n",
      "/home/ian/code/github/utils/.git/objects/43\n",
      "[]\n",
      "['9d21219595413e4353eaeb65201dfc85d8bbc4', '7dd0903f057d050b0b522e49fb718786e83640']\n",
      "/home/ian/code/github/utils/.git/objects/45\n",
      "[]\n",
      "['de14e42b103ba6f4dfe27ab5899583daf1bd65', 'cc45d5e057e7393c856774a0b0313c8846ac7a', '5fdc04e47386d5162b8a2e1471670721cc77f9', '1e3d44b88f6433a9890ca943269ef7f4c5c57b']\n",
      "/home/ian/code/github/utils/.git/objects/4f\n",
      "[]\n",
      "['165d2f881527eb6ad58898c568a4b8239aafc4', 'c554da67a6bd7677d23b64b872ca385d986440']\n",
      "/home/ian/code/github/utils/.git/objects/52\n",
      "[]\n",
      "['934f65cebcefc004cceb01b91f68f66fa5e179', '101cfa8879dbec1016398783ae33c7f187274d']\n",
      "/home/ian/code/github/utils/.git/objects/56\n",
      "[]\n",
      "['05bb4f987d12bd44096b3c2d8369d934f6c3e6', '77df7d97bc208602ac0adfc1cbb98db55770be', '3ca2f54a907863e07924b464cd770bd463cb73']\n",
      "/home/ian/code/github/utils/.git/objects/58\n",
      "[]\n",
      "['1de912bb0976ede06e27e1a36d14e9e04e26bd', '777f08a35fc8ba7db926d3d31bbfdc5c223037', 'c6c1f767233de5b82b1e6dd5c9e1c3892f9044']\n",
      "/home/ian/code/github/utils/.git/objects/59\n",
      "[]\n",
      "['e077810056e5314bb21f1609607be5a75d75d8', 'acca522bc01e2bd0753d42ed055dc31c6aacbc', 'a33ba54764b1b571343c0c8459cd218b6da8d6']\n",
      "/home/ian/code/github/utils/.git/objects/67\n",
      "[]\n",
      "['760c5490132c684feea19c5163ac2fd37403a7', '29345f0f4dc1be0d1df97f7ff7adbe635a5b22']\n",
      "/home/ian/code/github/utils/.git/objects/68\n",
      "[]\n",
      "['43ed75b54e3b051ab706c49b4bc0b91dcb7886', '3e2c58b8b441fde6606ac0f93f398cfdd078d4']\n",
      "/home/ian/code/github/utils/.git/objects/6b\n",
      "[]\n",
      "['643d3138cb502ed3f36036c83aab8032512cd0']\n",
      "/home/ian/code/github/utils/.git/objects/6f\n",
      "[]\n",
      "['1fec8f0d89c7f818d4dea0d24dabf1cd80b8f4']\n",
      "/home/ian/code/github/utils/.git/objects/7a\n",
      "[]\n",
      "['1b1e642b5d34a16497d51082710e92908e946c', '319e1036034d3ecf11f6995ccb227edaf3a358']\n",
      "/home/ian/code/github/utils/.git/objects/7c\n",
      "[]\n",
      "['724a8cd3046723912da2aa527324270adfbcff']\n",
      "/home/ian/code/github/utils/.git/objects/7f\n",
      "[]\n",
      "['d7ce85c371f1093f8231b8c392d9d0ca094f76']\n",
      "/home/ian/code/github/utils/.git/objects/89\n",
      "[]\n",
      "['032f07c1db846d4b901eecd3264f6d0928b759']\n",
      "/home/ian/code/github/utils/.git/objects/8a\n",
      "[]\n",
      "['43969233342ddbdc6db90c57c0de70c62b58ef', 'ada4dae4c0c9235f6000c6d85108ab2f02d2b1']\n",
      "/home/ian/code/github/utils/.git/objects/8b\n",
      "[]\n",
      "['ab6f2062442cf013c0a961b439dd03d9b11421', '29d82cb22fe43af72a30fe154f1cbfdf32784f']\n",
      "/home/ian/code/github/utils/.git/objects/90\n",
      "[]\n",
      "['3bd61b269f252ae0a97ac9e1ff6b1436f0a831']\n",
      "/home/ian/code/github/utils/.git/objects/93\n",
      "[]\n",
      "['10afd9b21e2f6cebb596c31fc7f9ef3d0460a2']\n",
      "/home/ian/code/github/utils/.git/objects/97\n",
      "[]\n",
      "['3c899c7d3f7ee90f174fcd0d8a527d44943c71', '4282060b15110dee34d025d10e8c9c956cc875', '36b4d27b1d67dcc76c821ddc42f879367a69c4', '8c84e214fc4909fde0b272ffd80a731de944cd']\n",
      "/home/ian/code/github/utils/.git/objects/9b\n",
      "[]\n",
      "['84e6958ada5fb1a678f825d9e49ec3c92188b3']\n",
      "/home/ian/code/github/utils/.git/objects/9e\n",
      "[]\n",
      "['1a374941e440024b84bb85426e8b1ea0a471c3', '4f6b5059ab3fab0c1c3646c76b35249e4ad3e2', 'd25f6733a0a06331fa5038a6c786cf388bdc99']\n",
      "/home/ian/code/github/utils/.git/objects/9f\n",
      "[]\n",
      "['e9a90a09825056492c076c2f1395682ae2bb0b', 'ec62433b6c41b13facb8bacdbf3b3b25cdd4ce']\n",
      "/home/ian/code/github/utils/.git/objects/a0\n",
      "[]\n",
      "['e13be4e2faf17f90b67e83667c5b1f26f59371']\n",
      "/home/ian/code/github/utils/.git/objects/a6\n",
      "[]\n",
      "['108261284f6cda4ebab4b8e1f4c1de5c8a54d6', '72c4fe74bf8dc74d5126bf1efe2f88d5f10349']\n",
      "/home/ian/code/github/utils/.git/objects/ab\n",
      "[]\n",
      "['d221f91b715c5c8b5ce91569563e5add0007b3', '07598ff220d4991556caafe319e5124e8af0c8', '6995465d888aff5ecd19d636df84579fbd8a5b']\n",
      "/home/ian/code/github/utils/.git/objects/ac\n",
      "[]\n",
      "['76e30e741108484ca4a43580fb73b797eefe70']\n",
      "/home/ian/code/github/utils/.git/objects/b1\n",
      "[]\n",
      "['76b51270e4f7e426b35711adc8b87b77412582', 'd1d38b967d89e340f1e27026831faed0c9b314', '67fac38067f092233ec9a570378ad95dd7c4d5', '9e74bbf4e100526bd22f6c614cb597588d0cc6']\n",
      "/home/ian/code/github/utils/.git/objects/ba\n",
      "[]\n",
      "['f60fb9c5e928ec91e9eed267af636703f55e69']\n",
      "/home/ian/code/github/utils/.git/objects/bb\n",
      "[]\n",
      "['fec59eac2f3574cc222f21ed4a42cff20d65a9']\n",
      "/home/ian/code/github/utils/.git/objects/c0\n",
      "[]\n",
      "['5b574c9bfdb64d2e889efbfa0b02742cd14e2f', '9c475e2fd84e9beebc5e55a9063e6ed873b4b7']\n",
      "/home/ian/code/github/utils/.git/objects/c3\n",
      "[]\n",
      "['95266d447873e6e9588f894360340a96f1067f', 'cc447eb5ee9f76c8639a4316b8736e3a01f370', '8795abb292da0cd23f59a8879159e6f3d6829a']\n",
      "/home/ian/code/github/utils/.git/objects/c5\n",
      "[]\n",
      "['17273ff1bd3fc1f9e7579539f31d6496a0185b']\n",
      "/home/ian/code/github/utils/.git/objects/c6\n",
      "[]\n",
      "['9efa312df24a6b778372530c442896180b76d3', 'ec755564368817e831bc4a04436e85e2c23e39', 'e41be7c51c634c3d7dea4bab7f04a1da649617', '71083ff81d0e4ec598ed6325fb10f576028ca3']\n",
      "/home/ian/code/github/utils/.git/objects/d9\n",
      "[]\n",
      "['e0ae3202298e9d74d56ca9a144c964a6da4c00']\n",
      "/home/ian/code/github/utils/.git/objects/de\n",
      "[]\n",
      "['62f041aa9918856599a178deb16bfc23430ee4', 'aab42f8dfdd307b20393c51509fae706ef91f1', '3b157af2fadb138774f9ad97139dec14e78704']\n",
      "/home/ian/code/github/utils/.git/objects/e6\n",
      "[]\n",
      "['9de29bb2d1d6434b8b29ae775ad8c2e48c5391', 'b01239ee8e508dd562f445b64bddc3622caeb5']\n",
      "/home/ian/code/github/utils/.git/objects/ea\n",
      "[]\n",
      "['0dc20775fdf384022474698ffde54687e59121', '43443fbe8d2ecc4c8ad842bba5ba41e81f7d67', '27f804364edfd4d06815955e485f16689a2f5a']\n",
      "/home/ian/code/github/utils/.git/objects/info\n",
      "[]\n",
      "[]\n",
      "/home/ian/code/github/utils/.git/objects/pack\n",
      "[]\n",
      "['pack-c43adb7572e58cdb39c06eb0b52c7b40dfc945b1.idx', 'pack-c43adb7572e58cdb39c06eb0b52c7b40dfc945b1.pack']\n",
      "/home/ian/code/github/utils/.git/objects/60\n",
      "[]\n",
      "['fbcad34a832494854818e862fc3c00f87ac601', '77a2bb59d06d1b555384fafd021711d1271d50']\n",
      "/home/ian/code/github/utils/.git/objects/29\n",
      "[]\n",
      "['f81d812f3e768fa89638d1f72920dbfd1413a8', 'e36b98095033378d40d9bab2ffcd57a5762464', '03512dd6b813a31ba718a5d3f1ddcdb8ec9a08']\n",
      "/home/ian/code/github/utils/.git/objects/04\n",
      "[]\n",
      "['89aa2445d47670cc7b8385d1e3863a8fdafa30']\n",
      "/home/ian/code/github/utils/.git/objects/91\n",
      "[]\n",
      "['aeb0bc3a5b89b4536966569aa4ffefcb58205c']\n",
      "/home/ian/code/github/utils/.git/objects/16\n",
      "[]\n",
      "['33b060e86e4af5c5a6a8c3b6052119f64837f1']\n",
      "/home/ian/code/github/utils/.git/objects/80\n",
      "[]\n",
      "['54b800d4d6c349830dd05a36a2014ef511b4b7']\n",
      "/home/ian/code/github/utils/.git/objects/3e\n",
      "[]\n",
      "['6ca57ac60a2659a3bd57611094fb4ed16d1579', '4d3b36c3c2ee051bc834e412ed0f6fe8c3d9fe', '2ea22da4a95da795b4b39e14e8993c5786f867', '72215224e236459e87e3e4aa1f926ae6cdd523']\n",
      "/home/ian/code/github/utils/.git/objects/39\n",
      "[]\n",
      "['448d31945cd27c9f09f72194548f7b9d952672']\n",
      "/home/ian/code/github/utils/.git/objects/ae\n",
      "[]\n",
      "['e4f63e91732ebffda1349edeb48d517cb04d95', '80bbdee102d1a4822a1b4aee8dffb1d41d6a77', '18e388b17b328ed7bfcfc9f2c55f59b10154dc']\n",
      "/home/ian/code/github/utils/.git/objects/bf\n",
      "[]\n",
      "['934f6d61acbbd6371b1b792d8129319323eda8']\n",
      "/home/ian/code/github/utils/.git/objects/dc\n",
      "[]\n",
      "['cfdb936dea9aaf7e8d8efa24033f018782cff5']\n",
      "/home/ian/code/github/utils/.git/objects/ca\n",
      "[]\n",
      "['7b47024c05a04ef35e91edcf34a5e15b7c9bfd']\n",
      "/home/ian/code/github/utils/.git/objects/f6\n",
      "[]\n",
      "['ac9bcd0dd5b1ce639e3ad6e8f842ea01d8621a']\n",
      "/home/ian/code/github/utils/.git/objects/9a\n",
      "[]\n",
      "['94337a6e75ec170b42d2b77985b2bffe952fb4']\n",
      "/home/ian/code/github/utils/.git/objects/2f\n",
      "[]\n",
      "['d64429bf421126b7000c94ce0f6fd186fbd01f', 'd7621f1e4c402706521ca851d865fdcbc1ad68']\n",
      "/home/ian/code/github/utils/.git/objects/7d\n",
      "[]\n",
      "['52e2c816740f8f6de010b1c6b5c89c88b3df4f', '82edc6142b236e8e8f20bedd794b04c08cf740']\n",
      "/home/ian/code/github/utils/.git/objects/82\n",
      "[]\n",
      "['64a8612d4f414cdda55b0a2036322c87f8a536']\n",
      "/home/ian/code/github/utils/.git/objects/cf\n",
      "[]\n",
      "['d04f1a53b3568f81c355ca2baa1c88bf1243b6', '1bda894ff212736ba3a8b2dea299ef1894543e']\n",
      "/home/ian/code/github/utils/.git/objects/fb\n",
      "[]\n",
      "['6baa0f8b3f6d9a818b1a8ebbbe4bd1b762f629', '29349949b2dc95c8472f766b436b1f24e955db']\n",
      "/home/ian/code/github/utils/.git/objects/df\n",
      "[]\n",
      "['7e347d08f98c314b91f6191d122496773b29c2']\n",
      "/home/ian/code/github/utils/.git/objects/db\n",
      "[]\n",
      "['b81e517a00c72e85fd51644d303f0011c78c64']\n",
      "/home/ian/code/github/utils/.git/objects/fd\n",
      "[]\n",
      "['1b16da386f42e2a47c56ee9131b788b4575c35', 'b67dfaecc9a44bc9490ddd2971cfcb959191f9']\n",
      "/home/ian/code/github/utils/.git/objects/57\n",
      "[]\n",
      "['3b23d8f33aa4badd22c781fce045a184c84c28']\n",
      "/home/ian/code/github/utils/.git/objects/8f\n",
      "[]\n",
      "['6dd9871d99a687316a1c4b9a7900a262bf9e79', 'b2fb20f217b7548115c7e8704acd870d6eafe9', '2dcad02be5800cd3e7bc5403c8adcfd0ed609b']\n",
      "/home/ian/code/github/utils/.git/objects/ad\n",
      "[]\n",
      "['29556508922409a1de24dd92b15c60c375819d', 'f6fe75b5b84df310c1e65734629f48e0ba60e1']\n",
      "/home/ian/code/github/utils/.git/objects/cb\n",
      "[]\n",
      "['4c17117cce961e792870852004ce3ce3e0d76d']\n",
      "/home/ian/code/github/utils/.git/objects/be\n",
      "[]\n",
      "['02bfba8456ea90235cace79fc08db123bd9119']\n",
      "/home/ian/code/github/utils/.git/objects/a4\n",
      "[]\n",
      "['f6f58f5b03257e1997209e7f459c8ccf9b8e71']\n",
      "/home/ian/code/github/utils/.git/objects/78\n",
      "[]\n",
      "['537fc517459d7f2c23c1b4c1c56862a4302af0', 'b8b10519dc8528915f7339987d743bc70313df', '09924aaa6c02971e97cc110801e202e618d8e2', '45c7bbbef6fde5e40539132f55968bddbaf3e3']\n",
      "/home/ian/code/github/utils/.git/objects/a2\n",
      "[]\n",
      "['b18dfe19c05b64ffa13d7c05f3cb492d5b6ef2']\n",
      "/home/ian/code/github/utils/.git/objects/f8\n",
      "[]\n",
      "['8ddb67f9aa469899b2ee616c56d58498449e32', 'c7920fac8d27ce262b48590c43502aee055e90']\n",
      "/home/ian/code/github/utils/.git/objects/14\n",
      "[]\n",
      "['34b858525f5112bf082c0c1ddac76831b04b4c']\n",
      "/home/ian/code/github/utils/.git/objects/7e\n",
      "[]\n",
      "['84f87bc458e7580bbc9b518bfd6970a766ed71', 'd8ac14d3ba9e237b1bd5e8e46d85f4d7e43faa']\n",
      "/home/ian/code/github/utils/.git/objects/7b\n",
      "[]\n",
      "['ee6858c950b727b9b5c9e2ae8a567f8b20b7fb']\n",
      "/home/ian/code/github/utils/.git/objects/ef\n",
      "[]\n",
      "['e7543797cb3ba1d475ef063b6755349aa251ae']\n",
      "/home/ian/code/github/utils/.git/objects/1f\n",
      "[]\n",
      "['3fb158dcae1e6c7ec4f09db27a21fc7316683e']\n",
      "/home/ian/code/github/utils/.git/objects/71\n",
      "[]\n",
      "['c8afef6a04eb5132b99ea3292a04db48c7cad2']\n",
      "/home/ian/code/github/utils/.git/objects/e0\n",
      "[]\n",
      "['b32fe9917f3ee4e0bdc57b96d81a7365cb9ae5']\n",
      "/home/ian/code/github/utils/.git/objects/b3\n",
      "[]\n",
      "['c8e1c6322c4848f4ca70f3fe49edd33fd96934']\n",
      "/home/ian/code/github/utils/.git/objects/07\n",
      "[]\n",
      "['9d96a2bb0150348ad9ee1ad99ce7cc1011dda4']\n",
      "/home/ian/code/github/utils/.git/objects/f0\n",
      "[]\n",
      "['f2bbfceb4902d2a03d65e1f37ec729832dddd6']\n",
      "/home/ian/code/github/utils/.git/objects/6c\n",
      "[]\n",
      "['b0a6ac90b6c3b76ac42d2563c267325e3da957']\n",
      "/home/ian/code/github/utils/.git/objects/94\n",
      "[]\n",
      "['e9bf898d8c0608b04886df0670190c0a63aca2', 'a4d99882283ca806d396398bbbef54f37f8e76']\n",
      "/home/ian/code/github/utils/.git/objects/49\n",
      "[]\n",
      "['51ac5adf79627efd61806168f7b8b93c757e5b']\n",
      "/home/ian/code/github/utils/.git/objects/a5\n",
      "[]\n",
      "['6407f5e59fbd5941caf9fb57a80c769cfbb525', 'dc4fdc81be6d017fd6e7bffc4071d99c3b115f']\n",
      "/home/ian/code/github/utils/.git/objects/e2\n",
      "[]\n",
      "['b9fbd35d85942cdf24fdeeb2c4b43fc2f7c173']\n",
      "/home/ian/code/github/utils/.git/objects/c2\n",
      "[]\n",
      "['6572af2ab0ab9e77f872d8841d5d0a170fc9f5']\n",
      "/home/ian/code/github/utils/.git/objects/11\n",
      "[]\n",
      "['7431804d25b11831a6b81f6a84c5cbeeaad73e']\n",
      "/home/ian/code/github/utils/.git/objects/1d\n",
      "[]\n",
      "['bc20053f3ce5aead0ed45a3a7a62613491985f', 'fffa7ecaf8fa693cd820b0023c29015946e03f']\n",
      "/home/ian/code/github/utils/.git/objects/c1\n",
      "[]\n",
      "['613c8207ecd9b3472e8fd9d5bf100edc69d472', 'eba4136da0952081958966d82b5660502c6b4d']\n",
      "/home/ian/code/github/utils/.git/objects/a1\n",
      "[]\n",
      "['c5223bead12e2ef492e01ccd3e90c904a3bb01']\n",
      "/home/ian/code/github/utils/.git/objects/83\n",
      "[]\n",
      "['1f3a3c79f907dd9dfb6b327057752d8c7804e5']\n",
      "/home/ian/code/github/utils/.git/objects/10\n",
      "[]\n",
      "['db2e6d3e406e717d5806f4a0dab1e36e7f198b']\n",
      "/home/ian/code/github/utils/.git/objects/46\n",
      "[]\n",
      "['7a8cce41a3f5b59428a8010a15f8f5870b1295']\n",
      "/home/ian/code/github/utils/.git/objects/b7\n",
      "[]\n",
      "['f3ab2144761fa2e8034413d36953cee1bb3906', '48acd3738e3fe7e5cc962ee7017688bdfcc345', '7eb78ce32f27c641d932be82af3fbd05a291bb']\n",
      "/home/ian/code/github/utils/.git/objects/95\n",
      "[]\n",
      "['fbb1d84492ce93428978a8e11293dc0de63b6e']\n",
      "/home/ian/code/github/utils/.git/objects/d4\n",
      "[]\n",
      "['7f7b53af92df19d4d7c450ceddc1eac9888e36']\n",
      "/home/ian/code/github/utils/.git/objects/e3\n",
      "[]\n",
      "['a0625f7e9b1092915fd2c79bdcaa5fd0b2ce4b', '6124727a4c77809d672cbf1c364d8a90fbfdce']\n",
      "/home/ian/code/github/utils/.git/objects/81\n",
      "[]\n",
      "['a844b700361e60f31bb53d172c8ce77284f67a']\n",
      "/home/ian/code/github/utils/.git/objects/98\n",
      "[]\n",
      "['2f0f48f1edeb21db1c58d336438bd4b9938d36', '2f9a299b5a0c485f8862fffc935c2f6e05d1fe', 'f429b5fecaa08873d7fae7c212b54130fb3cdb']\n",
      "/home/ian/code/github/utils/.git/objects/d2\n",
      "[]\n",
      "['5b0f661d9902c8c97c78e66d1eb9dd8406ce55']\n",
      "/home/ian/code/github/utils/.git/objects/6a\n",
      "[]\n",
      "['3f104dc5fb1e3c86ebfe076f4bf7ca6b7c6cee']\n",
      "/home/ian/code/github/utils/.git/objects/e5\n",
      "[]\n",
      "['e863305d78c251fe5fda5c26196b99842c54e4']\n",
      "/home/ian/code/github/utils/.git/objects/0d\n",
      "[]\n",
      "['8ecb9f3cd9a9ea9326cc35bfe26d1911080b88', '7a46c9fc1e185bc39e69c4566c8634ce87e23a']\n",
      "/home/ian/code/github/utils/.git/objects/02\n",
      "[]\n",
      "['5fd7258c58b971884ab2d9939b9c4da712b97e']\n",
      "/home/ian/code/github/utils/.git/objects/18\n",
      "[]\n",
      "['8d4e5294df6601ea237c6a4cfa595e918019b5']\n",
      "/home/ian/code/github/utils/.git/objects/87\n",
      "[]\n",
      "['f188d9ce3041317208228a9895083a035c58d8']\n",
      "/home/ian/code/github/utils/.git/objects/c7\n",
      "[]\n",
      "['4c09fb16e286834156b2a09c7c05fc2ab5175f', 'd1838d43cf42bdffbbaa5dbc6245a2cb9fbdcd']\n",
      "/home/ian/code/github/utils/.git/objects/c4\n",
      "[]\n",
      "['5ed096abd2535d73c79dd24f8dc32573920335']\n",
      "/home/ian/code/github/utils/.git/objects/f9\n",
      "[]\n",
      "['180163a30e13e09094834b00a22aa5f46891bf']\n",
      "/home/ian/code/github/utils/.git/objects/08\n",
      "[]\n",
      "['632a4a679fb515f09818fc3fe97b6c37966db3']\n",
      "/home/ian/code/github/utils/.git/objects/05\n",
      "[]\n",
      "['9bac232692132c8b86db660f5b507ec8ef6e5f']\n",
      "/home/ian/code/github/utils/.git/objects/0f\n",
      "[]\n",
      "['4ff11aacef5223aaa214bd482b39aae6ac6376']\n",
      "/home/ian/code/github/utils/.git/objects/31\n",
      "[]\n",
      "['ada88577a4e50f1ddb21817d72dcf2918ab789']\n",
      "/home/ian/code/github/utils/.git/objects/50\n",
      "[]\n",
      "['cd1736a8aebe2234f82792798afe32064e0193']\n",
      "/home/ian/code/github/utils/.git/objects/40\n",
      "[]\n",
      "['5e492a566fedbbd242dc5a233a56988abc75a3']\n",
      "/home/ian/code/github/utils/.git/objects/33\n",
      "[]\n",
      "['85331a176904d0232175df23dabb0b4d30df5d']\n",
      "/home/ian/code/github/utils/.git/objects/bd\n",
      "[]\n",
      "['ddea6f3983535720700e00ed2640dbe5398737']\n",
      "/home/ian/code/github/utils/.git/objects/a8\n",
      "[]\n",
      "['fd26475fe9d081e0a6900ebd4a6887089c562b']\n",
      "/home/ian/code/github/utils/.git/objects/f7\n",
      "[]\n",
      "['378d992dfdae7afcf69fabe39c3bd670fa2d59', '9fbe7e733f2c10faea6bd24bffc88dd6aab66c']\n",
      "/home/ian/code/github/utils/.git/objects/3c\n",
      "[]\n",
      "['14e1a94fbc85c94fc04e1f4a36f43555eec158']\n",
      "/home/ian/code/github/utils/.git/objects/cc\n",
      "[]\n",
      "['39fd113328099aae37ab571d8e13ab417f321c']\n",
      "/home/ian/code/github/utils/.git/objects/a3\n",
      "[]\n",
      "['dbf40b616a69bb2f834137671feb6bad0e86ad']\n",
      "/home/ian/code/github/utils/.git/objects/5f\n",
      "[]\n",
      "['8ed247e122adc4e2822d161d2575430f44a92f']\n",
      "/home/ian/code/github/utils/.git/objects/b5\n",
      "[]\n",
      "['642dabf06f92ae95b9783c59a61f2db68a6487']\n",
      "/home/ian/code/github/utils/.git/objects/9d\n",
      "[]\n",
      "['7e5b426025d3587a82a7edb51d9ba465d5502d', 'a5c6169db0dc388c5d003fdcdb9c11ab6f815f']\n",
      "/home/ian/code/github/utils/.git/objects/b8\n",
      "[]\n",
      "['80eaf0751150ce7457d226331ae102742e00da']\n",
      "/home/ian/code/github/utils/.git/objects/a7\n",
      "[]\n",
      "['07b491f0bc80180c0bacddcb778e8e576aa938']\n",
      "/home/ian/code/github/utils/.git/objects/77\n",
      "[]\n",
      "['56592645a4e6289dd40ed19462badcd81f090e']\n",
      "/home/ian/code/github/utils/.git/objects/27\n",
      "[]\n",
      "['f745b7cfe62a623307cd431888a71ab85864e9']\n",
      "/home/ian/code/github/utils/.git/objects/a9\n",
      "[]\n",
      "['8f986928f2f4b93ebbfe685e7e212a6c06174d', 'a4bb702e82441d5b4eac8d129eaf5fb50ff07c']\n",
      "/home/ian/code/github/utils/.git/objects/76\n",
      "[]\n",
      "['a010ca57f20ce262a469687cf616eedb594e19']\n",
      "/home/ian/code/github/utils/.git/objects/0a\n",
      "[]\n",
      "['79f3fee555fb0e85bdf3f7087959de4d156a3d']\n",
      "/home/ian/code/github/utils/.git/objects/2b\n",
      "[]\n",
      "['d1276e0fe6f6aad018763c9723183c1f6f3831']\n",
      "/home/ian/code/github/utils/.git/objects/84\n",
      "[]\n",
      "['373e6317be000d338dd43a948d30c33048a469']\n",
      "/home/ian/code/github/utils/.git/objects/d8\n",
      "[]\n",
      "['14f8237a340a787e1cd06456375eb01afa4a85', '2d38e51958489edbfb4169e9070cafd48b25d2']\n",
      "/home/ian/code/github/utils/.git/objects/ed\n",
      "[]\n",
      "['6076601661aa15bb31264199943b8de0cab201']\n",
      "/home/ian/code/github/utils/.git/objects/8c\n",
      "[]\n",
      "['3a4efd4eca45977d448b4072c8b00bc639be43']\n",
      "/home/ian/code/github/utils/.git/objects/3d\n",
      "[]\n",
      "['1447b4936e554f0db536103d15a44e02c8a8ae']\n",
      "/home/ian/code/github/utils/.git/objects/d7\n",
      "[]\n",
      "['ed14bb01aee06580932ff8af4362eb27ac2422']\n",
      "/home/ian/code/github/utils/.git/objects/38\n",
      "[]\n",
      "['ee93f860e3add721b37c877e6e5ca4a26d01ba']\n",
      "/home/ian/code/github/utils/.git/objects/63\n",
      "[]\n",
      "['9086a2b6964f2ee04b1848db2c47a21bf7cd39']\n",
      "/home/ian/code/github/utils/.git/objects/24\n",
      "[]\n",
      "['2389d0802ed72c4bd7fc3a5f5daabb08f20b39']\n",
      "/home/ian/code/github/utils/.git/objects/5b\n",
      "[]\n",
      "['e96b22d8d2950aeae81eb82a000a18af233982']\n",
      "/home/ian/code/github/utils/.git/objects/c9\n",
      "[]\n",
      "['a318462f23f0f7f897ac40576a875a58c62874']\n",
      "/home/ian/code/github/utils/.git/objects/e9\n",
      "[]\n",
      "['f4dba6d01d967053177d498f2c95cfc9500b20']\n",
      "/home/ian/code/github/utils/.git/objects/d6\n",
      "[]\n",
      "['395b3d8bb5a114d1e37efd19a370992e6625d6']\n",
      "/home/ian/code/github/utils/.git/objects/23\n",
      "[]\n",
      "['7dcced67c3d9bf03361ae5dd496c4ecf7db7e7']\n",
      "/home/ian/code/github/utils/.git/objects/4a\n",
      "[]\n",
      "['7af896f0165e845b9e2e24c4bb87ee480d19b5']\n",
      "/home/ian/code/github/utils/.git/objects/35\n",
      "[]\n",
      "['31c61a3247141e78f323faea44329c9b31ad0e']\n",
      "/home/ian/code/github/utils/.git/objects/f2\n",
      "[]\n",
      "['fd26c53d636d63b7f42684a583602c02a8f39b']\n",
      "/home/ian/code/github/utils/.git/objects/28\n",
      "[]\n",
      "['f2a7f94f944542e6d5c551d0e09e89eef74e23']\n",
      "/home/ian/code/github/utils/.git/objects/44\n",
      "[]\n",
      "['997571e31619fde9463806ab115c2e179eaff3']\n",
      "/home/ian/code/github/utils/.git/objects/09\n",
      "[]\n",
      "['8bc2c1a57867d0d1c923b24618752c99dff3d1']\n",
      "/home/ian/code/github/utils/.git/objects/62\n",
      "[]\n",
      "['8ba24870b88be3813d8f70fd9ae7b1c03f0bc5']\n",
      "/home/ian/code/github/utils/.git/refs\n",
      "['heads', 'remotes', 'tags']\n",
      "[]\n",
      "/home/ian/code/github/utils/.git/refs/heads\n",
      "[]\n",
      "['master']\n",
      "/home/ian/code/github/utils/.git/refs/remotes\n",
      "['origin']\n",
      "[]\n",
      "/home/ian/code/github/utils/.git/refs/remotes/origin\n",
      "[]\n",
      "['HEAD', 'master']\n",
      "/home/ian/code/github/utils/.git/refs/tags\n",
      "[]\n",
      "[]\n",
      "/home/ian/code/github/utils/.ipynb_checkpoints\n",
      "[]\n",
      "[]\n",
      "/home/ian/code/github/utils/crawl\n",
      "['.ipynb_checkpoints', '__pycache__']\n",
      "['pyquery_wrapper.py', 'requests_wrapper.py', 'test.ipynb']\n",
      "/home/ian/code/github/utils/crawl/.ipynb_checkpoints\n",
      "[]\n",
      "['test-checkpoint.ipynb']\n",
      "/home/ian/code/github/utils/crawl/__pycache__\n",
      "[]\n",
      "['pyquery_wrapper.cpython-36.pyc', 'requests_wrapper.cpython-36.pyc']\n",
      "/home/ian/code/github/utils/neo4j\n",
      "['.ipynb_checkpoints']\n",
      "['py2neo.ipynb', 'zhenduan+zhengzhuang.csv', 'zstp1.ipynb', 'zstp2.ipynb']\n",
      "/home/ian/code/github/utils/neo4j/.ipynb_checkpoints\n",
      "[]\n",
      "['py2neo-checkpoint.ipynb']\n",
      "/home/ian/code/github/utils/nlp\n",
      "['.ipynb_checkpoints', '__pycache__']\n",
      "['nlp_wrapper.py', 'nltk_wrapper.py', 'temp.txt', 'test.ipynb', 'test.jpg', 'wordcloudtest.ipynb', 'xiniu.png', 'yezi.png', 'yezicloud.jpg', 'yezijieba.jpg', 'jieba_wrapper.py', 'jieba_userdict.txt', 'pypinyin_wrapper.py']\n",
      "/home/ian/code/github/utils/nlp/.ipynb_checkpoints\n",
      "[]\n",
      "['test-checkpoint.ipynb', 'wordcloudtest-checkpoint.ipynb']\n",
      "/home/ian/code/github/utils/nlp/__pycache__\n",
      "[]\n",
      "['nlp_wrapper.cpython-36.pyc']\n",
      "/home/ian/code/github/utils/pythonmodules\n",
      "['__pycache__', '.ipynb_checkpoints']\n",
      "['matplotlib_wrapper.py', 're_wrapper.py', 'set_wrapper.py', 'string_wrapper.py', 'dftest.ipynb', 'os_wrapper.py', 'list_wrapper.py']\n",
      "/home/ian/code/github/utils/pythonmodules/__pycache__\n",
      "[]\n",
      "['re_wrapper.cpython-36.pyc']\n",
      "/home/ian/code/github/utils/pythonmodules/.ipynb_checkpoints\n",
      "[]\n",
      "['dftest-checkpoint.ipynb']\n",
      "/home/ian/code/github/utils/__pycache__\n",
      "[]\n",
      "['numpy_wrapper.cpython-36.pyc', 'pandas_wrapper.cpython-36.pyc', 'pickle_wrapper.cpython-36.pyc', 'pymongo_wrapper.cpython-36.pyc', 'udf.cpython-36.pyc']\n",
      "/home/ian/code/github/utils/ElasticSearch\n",
      "['.ipynb_checkpoints']\n",
      "['test.ipynb']\n",
      "/home/ian/code/github/utils/ElasticSearch/.ipynb_checkpoints\n",
      "[]\n",
      "['test-checkpoint.ipynb']\n",
      "/home/ian/code/github/utils/0examples\n",
      "['.ipynb_checkpoints', 'spark-warehouse']\n",
      "['汉字转拼音.ipynb', '计算文本相似度.ipynb', 'pymongotest.ipynb', 'listtest.ipynb', 'pickletest.ipynb', 'pandastest.ipynb', 'dicttest.ipynb', 'jiebatest.ipynb', '建立物品的同现矩阵.ipynb', '利用结巴提取文章关键字.ipynb', '基于双向LSTM和迁移学习的seq2seq核心实体识别.ipynb', 'word2vec_words_final.model', 'gensimtest.ipynb', 'model.tfidf', 'TensorFlow中的变量命名以及命名空间.ipynb', 'keras构建Sequential神经网络.ipynb', 'keras构建Functional神经网络.ipynb', '算法01：排序.ipynb', '在Python中实现你自己的推荐系统.ipynb', '如何在长短期记忆(LSTM)网络中利用TimeDistributed层.ipynb', 'python操作hbase1.ipynb', 'python操作hbase2.ipynb', '算法02：堆排序&快速排序.ipynb', 're_test.ipynb', 'md5加密.ipynb', 'os_test.ipynb', 'logging_test.ipynb', 'python操作oracle.ipynb', '提取一篇文档的特征.ipynb', 'pyspark_RDD.ipynb', 'pyspark_dataframe.ipynb', 'scipy_test.ipynb', 'string_test.ipynb', 'sys_test.ipynb']\n",
      "/home/ian/code/github/utils/0examples/.ipynb_checkpoints\n",
      "[]\n",
      "['汉字转拼音-checkpoint.ipynb', '计算文本相似度-checkpoint.ipynb', 'pymongotest-checkpoint.ipynb', 'listtest-checkpoint.ipynb', 'pickletest-checkpoint.ipynb', 'pandastest-checkpoint.ipynb', 'dicttest-checkpoint.ipynb', 'jiebatest-checkpoint.ipynb', '建立物品的同现矩阵-checkpoint.ipynb', '利用结巴提取文章关键字-checkpoint.ipynb', '基于双向LSTM和迁移学习的seq2seq核心实体识别-checkpoint.ipynb', 'gensimtest-checkpoint.ipynb', 'TensorFlow中的变量命名以及命名空间-checkpoint.ipynb', 'keras构建Sequential神经网络-checkpoint.ipynb', 'keras构建Functional神经网络-checkpoint.ipynb', '算法01：排序-checkpoint.ipynb', '在Python中实现你自己的推荐系统-checkpoint.ipynb', '如何在长短期记忆(LSTM)网络中利用TimeDistributed层-checkpoint.ipynb', 'python操作hbase1-checkpoint.ipynb', 'python操作hbase2-checkpoint.ipynb', '算法02：堆排序&快速排序-checkpoint.ipynb', 're_test-checkpoint.ipynb', 'md5加密-checkpoint.ipynb', 'os_test-checkpoint.ipynb', 'logging_test-checkpoint.ipynb', 'python操作oracle-checkpoint.ipynb', '提取一篇文档的特征-checkpoint.ipynb', 'pyspark_RDD-checkpoint.ipynb', 'pyspark_dataframe-checkpoint.ipynb', 'scipy_test-checkpoint.ipynb', 'string_test-checkpoint.ipynb', 'sys_test-checkpoint.ipynb']\n",
      "/home/ian/code/github/utils/0examples/spark-warehouse\n",
      "[]\n",
      "[]\n",
      "/home/ian/code/github/utils/pandas\n",
      "['.ipynb_checkpoints', '__pycache__']\n",
      "['series_wrapper.py', 'dataframe_wrapper.py']\n",
      "/home/ian/code/github/utils/pandas/.ipynb_checkpoints\n",
      "[]\n",
      "[]\n",
      "/home/ian/code/github/utils/pandas/__pycache__\n",
      "[]\n",
      "['dataframe_wrapper.cpython-36.pyc']\n",
      "/home/ian/code/github/utils/dl\n",
      "['.ipynb_checkpoints', '__pycache__']\n",
      "['tf_wrapper.py', 'keras_wrapper.py']\n",
      "/home/ian/code/github/utils/dl/.ipynb_checkpoints\n",
      "[]\n",
      "[]\n",
      "/home/ian/code/github/utils/dl/__pycache__\n",
      "[]\n",
      "['tf_wrapper.cpython-36.pyc']\n"
     ]
    }
   ],
   "source": [
    "file_name('/home/ian/code/github/utils')"
   ]
  },
  {
   "cell_type": "code",
   "execution_count": 15,
   "metadata": {},
   "outputs": [
    {
     "data": {
      "text/plain": [
       "['analytics-zoo',\n",
       " 'data',\n",
       " 'E-Tagging',\n",
       " 'gittest',\n",
       " 'gittest2',\n",
       " 'jfjutils',\n",
       " 'Kaggle_CrowdFlower',\n",
       " 'kaggle_quora-question-pairs',\n",
       " 'kg',\n",
       " 'learn',\n",
       " 'LSCJcourses',\n",
       " 'NER',\n",
       " 'ProxyPool',\n",
       " 'web',\n",
       " 'zh-NER-keras',\n",
       " 'zh-NER-TF',\n",
       " 'Agriculture_KnowledgeGraph',\n",
       " 'crawl',\n",
       " '.ipynb_checkpoints',\n",
       " 'spark-warehouse',\n",
       " 'Untitled1.ipynb',\n",
       " 'derby.log',\n",
       " 'metastore_db',\n",
       " 'brat',\n",
       " 'utils1',\n",
       " 'xiaoai',\n",
       " 'finance',\n",
       " '真实值.html',\n",
       " '预测值.html',\n",
       " '1.jpg',\n",
       " 'Information-Extraction-Chinese']"
      ]
     },
     "execution_count": 15,
     "metadata": {},
     "output_type": "execute_result"
    }
   ],
   "source": [
    "os.listdir('/home/ian/code/github')"
   ]
  },
  {
   "cell_type": "code",
   "execution_count": 3,
   "metadata": {},
   "outputs": [
    {
     "data": {
      "text/plain": [
       "['.git',\n",
       " '.gitignore',\n",
       " '.ipynb_checkpoints',\n",
       " 'crawl',\n",
       " 'LICENSE',\n",
       " 'model_wrapper.py',\n",
       " 'neo4j',\n",
       " 'nlp',\n",
       " 'numpy_wrapper.py',\n",
       " 'pandas_wrapper.py',\n",
       " 'pickle_wrapper.py',\n",
       " 'pymongo_wrapper.py',\n",
       " 'pythonmodules',\n",
       " 'README.md',\n",
       " 'udf.py',\n",
       " '__pycache__',\n",
       " 'ElasticSearch',\n",
       " '0examples',\n",
       " 'pandas',\n",
       " 'dl',\n",
       " 'sklearn_wrapper.py',\n",
       " 'pyspark_wrapper.py']"
      ]
     },
     "execution_count": 3,
     "metadata": {},
     "output_type": "execute_result"
    }
   ],
   "source": [
    "os.listdir('/home/ian/code/github/utils')"
   ]
  },
  {
   "cell_type": "code",
   "execution_count": null,
   "metadata": {},
   "outputs": [],
   "source": [
    "# 重命名文件test1.txt到test2.txt。\n",
    "os.rename( \"foo.txt\", \"test2.txt\" )\n",
    "# 删除一个已经存在的文件test2.txt\n",
    "os.remove(\"test2.txt\")"
   ]
  },
  {
   "cell_type": "code",
   "execution_count": 3,
   "metadata": {},
   "outputs": [
    {
     "data": {
      "text/plain": [
       "True"
      ]
     },
     "execution_count": 3,
     "metadata": {},
     "output_type": "execute_result"
    }
   ],
   "source": [
    "#判断目录是否存在\n",
    "os.path.exists('/home/ian/code/data/e-tagging/ru1_tb_cis_mzdzbl/manlabel0-80')"
   ]
  },
  {
   "cell_type": "code",
   "execution_count": 4,
   "metadata": {},
   "outputs": [
    {
     "data": {
      "text/plain": [
       "False"
      ]
     },
     "execution_count": 4,
     "metadata": {},
     "output_type": "execute_result"
    }
   ],
   "source": [
    "os.path.exists('/home/ian/code/data/e-tagging/ru1_tb_cis_mzdzbl/manlabel0-8')"
   ]
  },
  {
   "cell_type": "markdown",
   "metadata": {},
   "source": [
    "os.mkdir() 方法用于以数字权限模式创建目录。默认的模式为 0777 (八进制)。"
   ]
  },
  {
   "cell_type": "code",
   "execution_count": 7,
   "metadata": {},
   "outputs": [],
   "source": [
    "os.mkdir('/home/ian/code/data/e-tagging/ru1_tb_cis_mzdzbl/manlabel0-80/aa', 755 )"
   ]
  },
  {
   "cell_type": "code",
   "execution_count": 8,
   "metadata": {},
   "outputs": [
    {
     "ename": "IsADirectoryError",
     "evalue": "[Errno 21] Is a directory: '/home/ian/code/data/e-tagging/ru1_tb_cis_mzdzbl/manlabel0-80/aa'",
     "output_type": "error",
     "traceback": [
      "\u001b[0;31m---------------------------------------------------------------------------\u001b[0m",
      "\u001b[0;31mIsADirectoryError\u001b[0m                         Traceback (most recent call last)",
      "\u001b[0;32m<ipython-input-8-2800fed768f6>\u001b[0m in \u001b[0;36m<module>\u001b[0;34m()\u001b[0m\n\u001b[0;32m----> 1\u001b[0;31m \u001b[0mos\u001b[0m\u001b[0;34m.\u001b[0m\u001b[0mremove\u001b[0m\u001b[0;34m(\u001b[0m\u001b[0;34m'/home/ian/code/data/e-tagging/ru1_tb_cis_mzdzbl/manlabel0-80/aa'\u001b[0m\u001b[0;34m)\u001b[0m\u001b[0;34m\u001b[0m\u001b[0m\n\u001b[0m",
      "\u001b[0;31mIsADirectoryError\u001b[0m: [Errno 21] Is a directory: '/home/ian/code/data/e-tagging/ru1_tb_cis_mzdzbl/manlabel0-80/aa'"
     ]
    }
   ],
   "source": [
    "os.remove('/home/ian/code/data/e-tagging/ru1_tb_cis_mzdzbl/manlabel0-80/aa')"
   ]
  },
  {
   "cell_type": "code",
   "execution_count": null,
   "metadata": {},
   "outputs": [],
   "source": [
    "os.rmdir()"
   ]
  },
  {
   "cell_type": "code",
   "execution_count": 9,
   "metadata": {},
   "outputs": [],
   "source": [
    "os.removedirs('/home/ian/code/data/e-tagging/ru1_tb_cis_mzdzbl/manlabel0-80/aa')"
   ]
  },
  {
   "cell_type": "markdown",
   "metadata": {},
   "source": [
    "### 拷贝文件"
   ]
  },
  {
   "cell_type": "code",
   "execution_count": 10,
   "metadata": {},
   "outputs": [],
   "source": [
    "import shutil"
   ]
  },
  {
   "cell_type": "code",
   "execution_count": 11,
   "metadata": {},
   "outputs": [
    {
     "data": {
      "text/plain": [
       "'/home/ian/code/data/e-tagging/ru1_tb_cis_mzdzbl_0.txt'"
      ]
     },
     "execution_count": 11,
     "metadata": {},
     "output_type": "execute_result"
    }
   ],
   "source": [
    "shutil.copyfile('/home/ian/code/data/e-tagging/ru1_tb_cis_mzdzbl_0.csv','/home/ian/code/data/e-tagging/ru1_tb_cis_mzdzbl_0.txt')"
   ]
  },
  {
   "cell_type": "code",
   "execution_count": null,
   "metadata": {},
   "outputs": [],
   "source": []
  }
 ],
 "metadata": {
  "kernelspec": {
   "display_name": "Python 3",
   "language": "python",
   "name": "python3"
  },
  "language_info": {
   "codemirror_mode": {
    "name": "ipython",
    "version": 3
   },
   "file_extension": ".py",
   "mimetype": "text/x-python",
   "name": "python",
   "nbconvert_exporter": "python",
   "pygments_lexer": "ipython3",
   "version": "3.6.5"
  }
 },
 "nbformat": 4,
 "nbformat_minor": 2
}
