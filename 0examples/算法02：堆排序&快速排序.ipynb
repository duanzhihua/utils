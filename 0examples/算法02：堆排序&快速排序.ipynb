{
 "cells": [
  {
   "cell_type": "code",
   "execution_count": null,
   "metadata": {},
   "outputs": [],
   "source": [
    "利用Python实现堆排序https://blog.csdn.net/minxihou/article/details/51850001"
   ]
  },
  {
   "cell_type": "markdown",
   "metadata": {},
   "source": [
    "# ALGOhw02:\n",
    "## 1 推算堆排序的算法复杂度与归并排序的算法复杂度,并编程对比两者的实际性能"
   ]
  },
  {
   "cell_type": "markdown",
   "metadata": {},
   "source": [
    "### 插入排序&归并排序"
   ]
  },
  {
   "cell_type": "code",
   "execution_count": 14,
   "metadata": {},
   "outputs": [],
   "source": [
    "def sort(list1, mode='insertion sorting'):\n",
    "    list1 = list1.copy()\n",
    "    if mode == 'insertion sorting':\n",
    "        for i in range(1,len(list1)):\n",
    "            ii = i\n",
    "            while list1[ii] < list1[ii-1]:        \n",
    "                temp = list1[ii]\n",
    "                list1[ii] = list1[ii-1]\n",
    "                list1[ii-1] = temp\n",
    "                ii = ii-1\n",
    "                if ii == 0:\n",
    "                    break\n",
    "        return list1\n",
    "    elif mode == 'merge sorting':\n",
    "        def merge(a1,a2):\n",
    "            '''\n",
    "            把a1,a2合并为一个排序好的序列\n",
    "            a1 & a2: 两个已经排序好的list\n",
    "            '''\n",
    "            l1 = list()\n",
    "            i, ii = 0, 0\n",
    "            while i<len(a1) and ii < len(a2):\n",
    "                if a1[i]<a2[ii]:\n",
    "                    l1.append(a1[i])\n",
    "                    i += 1\n",
    "                else:\n",
    "                    l1.append(a2[ii])\n",
    "                    ii += 1\n",
    "            if i<len(a1):\n",
    "                l1.extend(a1[i:])\n",
    "            else:\n",
    "                l1.extend(a2[ii:])\n",
    "            return l1\n",
    "        def merge_sort(l1):\n",
    "            if len(l1)>1:\n",
    "                mid = len(l1)//2\n",
    "                a1 = merge_sort(l1[:mid])\n",
    "                a2 = merge_sort(l1[mid:])\n",
    "                return merge(a1,a2)\n",
    "            return l1\n",
    "        return merge_sort(list1)"
   ]
  },
  {
   "cell_type": "markdown",
   "metadata": {},
   "source": [
    "### 堆排序"
   ]
  },
  {
   "cell_type": "code",
   "execution_count": 52,
   "metadata": {},
   "outputs": [],
   "source": [
    "def MAX_Heapify(heap,HeapSize,root):#在堆中做结构调整使得父节点的值大于子节点\n",
    "\n",
    "    left = 2*root + 1\n",
    "    right = left + 1\n",
    "    larger = root\n",
    "    if left < HeapSize and heap[larger] < heap[left]:\n",
    "        larger = left\n",
    "    if right < HeapSize and heap[larger] < heap[right]:\n",
    "        larger = right\n",
    "    if larger != root:#如果做了堆调整则larger的值等于左节点或者右节点的，这个时候做对调值操作\n",
    "        heap[larger],heap[root] = heap[root],heap[larger]\n",
    "        MAX_Heapify(heap, HeapSize, larger)\n",
    "\n",
    "def Build_MAX_Heap(heap):#构造一个堆，将堆中所有数据重新排序\n",
    "    HeapSize = len(heap)#将堆的长度当独拿出来方便\n",
    "    for i in range((HeapSize -2)//2,-1,-1):#从后往前出数\n",
    "        MAX_Heapify(heap,HeapSize,i)\n",
    "\n",
    "def HeapSort(heap):#将根节点取出与最后一位做对调，对前面len-1个节点继续进行对调整过程。\n",
    "    Build_MAX_Heap(heap)\n",
    "    for i in range(len(heap)-1,-1,-1):\n",
    "        heap[0],heap[i] = heap[i],heap[0]\n",
    "        MAX_Heapify(heap, i, 0)\n",
    "    return heap"
   ]
  },
  {
   "cell_type": "code",
   "execution_count": 17,
   "metadata": {},
   "outputs": [
    {
     "data": {
      "text/plain": [
       "array([11968,  1637,     1,  4756, 13208])"
      ]
     },
     "execution_count": 17,
     "metadata": {},
     "output_type": "execute_result"
    }
   ],
   "source": [
    "import numpy as np\n",
    "list1 = np.random.permutation(20000)\n",
    "list1[:5]"
   ]
  },
  {
   "cell_type": "markdown",
   "metadata": {},
   "source": [
    "### 归并排序"
   ]
  },
  {
   "cell_type": "code",
   "execution_count": 18,
   "metadata": {},
   "outputs": [
    {
     "name": "stdout",
     "output_type": "stream",
     "text": [
      "CPU times: user 119 ms, sys: 563 µs, total: 120 ms\n",
      "Wall time: 117 ms\n"
     ]
    }
   ],
   "source": [
    "%%time\n",
    "l2 = sort(list1,mode='merge sorting')\n",
    "l2[:5]"
   ]
  },
  {
   "cell_type": "markdown",
   "metadata": {},
   "source": [
    "### 堆排序"
   ]
  },
  {
   "cell_type": "code",
   "execution_count": 56,
   "metadata": {},
   "outputs": [],
   "source": [
    "l3 = list(list1.copy())"
   ]
  },
  {
   "cell_type": "code",
   "execution_count": 58,
   "metadata": {},
   "outputs": [
    {
     "name": "stdout",
     "output_type": "stream",
     "text": [
      "CPU times: user 126 ms, sys: 2.32 ms, total: 129 ms\n",
      "Wall time: 126 ms\n"
     ]
    },
    {
     "data": {
      "text/plain": [
       "[0, 1, 2, 3, 4]"
      ]
     },
     "execution_count": 58,
     "metadata": {},
     "output_type": "execute_result"
    }
   ],
   "source": [
    "%%time\n",
    "HeapSort(l3)[:5]"
   ]
  },
  {
   "cell_type": "markdown",
   "metadata": {},
   "source": [
    "### 时间复杂度\n",
    "\n",
    "堆排序的时间复杂度分为两个部分一个是建堆的时候所耗费的时间，一个是进行堆调整的时候所耗费的时间。而堆排序则是调用了建堆和堆调整。   \n",
    "刚刚在上面也提及到了，建堆是一个线性过程，从len/2-0一直调用堆调整的过程，相当于o(h1)+o(h2)+…+o(hlen/2)这里的h表示节点深度，len/2表示节点深度，对于求和过程，结果为线性的O（n）   \n",
    "堆调整为一个递归的过程，调整堆的过程时间复杂度与堆的深度有关系，相当于lgn的操作。   \n",
    "因为建堆的时间复杂度是O（n）,调整堆的时间复杂度是lgn，所以堆排序的时间复杂度是O（nlgn）。"
   ]
  },
  {
   "cell_type": "markdown",
   "metadata": {},
   "source": [
    "## 2 快速排序法最好和最坏的情况分别是什么,在两种情况下的算法复杂度分别为多少?\n",
    "采取什么样的优化能让快速排序算法尽量避免最坏的情况?\n",
    "https://zhidao.baidu.com/question/680275167342047652.html"
   ]
  },
  {
   "cell_type": "markdown",
   "metadata": {},
   "source": [
    "快速排序（Quicksort）是对冒泡排序的一种改进。由C. A. R. Hoare在1962年提出。    \n",
    "它的基本思想是：通过一趟排序将要排序的数据分割成独立的两部分，其中一部分的所有数据都比另外一部分的所有数据都要小，然后再按此方法对这两部分数据分别进行快速排序，整个排序过程可以递归进行，以此达到整个数据变成有序序列。  \n",
    "最好的情况是枢纽元选取得当，每次都能均匀的划分序列。 时间复杂度O(nlogn)  \n",
    "最坏情况是枢纽元为最大或者最小数字，那么所有数都划分到一个序列去了 时间复杂度为O(n^2)"
   ]
  },
  {
   "cell_type": "code",
   "execution_count": null,
   "metadata": {},
   "outputs": [],
   "source": []
  }
 ],
 "metadata": {
  "kernelspec": {
   "display_name": "Python 3",
   "language": "python",
   "name": "python3"
  },
  "language_info": {
   "codemirror_mode": {
    "name": "ipython",
    "version": 3
   },
   "file_extension": ".py",
   "mimetype": "text/x-python",
   "name": "python",
   "nbconvert_exporter": "python",
   "pygments_lexer": "ipython3",
   "version": "3.6.5"
  }
 },
 "nbformat": 4,
 "nbformat_minor": 2
}
