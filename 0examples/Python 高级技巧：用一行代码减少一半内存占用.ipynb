{
 "cells": [
  {
   "cell_type": "markdown",
   "metadata": {},
   "source": [
    "https://mp.weixin.qq.com/s?__biz=MzIzNzA4NDk3Nw==&mid=2457736895&idx=1&sn=ac6433fd594f65f85cdb51e19eaa5122&chksm=ff44bee1c83337f7f072893bf1b131f805aeee0c775cfe4664a2cfcdb109440d3a19e9de2882&mpshare=1&scene=1&srcid=1219PXD9YPNOcXbP56eyvdSY#rd"
   ]
  },
  {
   "cell_type": "code",
   "execution_count": 1,
   "metadata": {},
   "outputs": [],
   "source": [
    "import sys"
   ]
  },
  {
   "cell_type": "code",
   "execution_count": 2,
   "metadata": {},
   "outputs": [],
   "source": [
    "class DataItem(object):\n",
    "    def __init__(self, name, age, address):\n",
    "        self.name = name\n",
    "        self.age = age\n",
    "        self.address = address"
   ]
  },
  {
   "cell_type": "code",
   "execution_count": 3,
   "metadata": {},
   "outputs": [
    {
     "name": "stdout",
     "output_type": "stream",
     "text": [
      "sys.getsizeof(d1): 56\n"
     ]
    }
   ],
   "source": [
    "d1 = DataItem(\"Alex\", 42, \"-\")\n",
    "print (\"sys.getsizeof(d1):\", sys.getsizeof(d1))"
   ]
  },
  {
   "cell_type": "code",
   "execution_count": 4,
   "metadata": {},
   "outputs": [
    {
     "name": "stdout",
     "output_type": "stream",
     "text": [
      "sys.getsizeof(d2): 56\n"
     ]
    }
   ],
   "source": [
    "d2 = DataItem(\"Boris\", 24, \"In the middle of nowhere\")\n",
    "print (\"sys.getsizeof(d2):\", sys.getsizeof(d2))"
   ]
  },
  {
   "cell_type": "code",
   "execution_count": 5,
   "metadata": {},
   "outputs": [
    {
     "data": {
      "text/plain": [
       "49"
      ]
     },
     "execution_count": 5,
     "metadata": {},
     "output_type": "execute_result"
    }
   ],
   "source": [
    "sys.getsizeof(\"\")"
   ]
  },
  {
   "cell_type": "code",
   "execution_count": 6,
   "metadata": {},
   "outputs": [
    {
     "data": {
      "text/plain": [
       "28"
      ]
     },
     "execution_count": 6,
     "metadata": {},
     "output_type": "execute_result"
    }
   ],
   "source": [
    "sys.getsizeof(1)"
   ]
  },
  {
   "cell_type": "code",
   "execution_count": 8,
   "metadata": {},
   "outputs": [
    {
     "data": {
      "text/plain": [
       "240"
      ]
     },
     "execution_count": 8,
     "metadata": {},
     "output_type": "execute_result"
    }
   ],
   "source": [
    "sys.getsizeof(dict())"
   ]
  },
  {
   "cell_type": "code",
   "execution_count": 10,
   "metadata": {},
   "outputs": [],
   "source": [
    "def dump(obj):\n",
    "    for attr in dir(obj):\n",
    "        print(\"  obj.%s = %r\" % (attr, getattr(obj, attr)))"
   ]
  },
  {
   "cell_type": "code",
   "execution_count": 12,
   "metadata": {},
   "outputs": [
    {
     "name": "stdout",
     "output_type": "stream",
     "text": [
      "  obj.__class__ = <class '__main__.DataItem'>\n",
      "  obj.__delattr__ = <method-wrapper '__delattr__' of DataItem object at 0x7f35402c3128>\n",
      "  obj.__dict__ = {'name': 'Alex', 'age': 42, 'address': '-'}\n",
      "  obj.__dir__ = <built-in method __dir__ of DataItem object at 0x7f35402c3128>\n",
      "  obj.__doc__ = None\n",
      "  obj.__eq__ = <method-wrapper '__eq__' of DataItem object at 0x7f35402c3128>\n",
      "  obj.__format__ = <built-in method __format__ of DataItem object at 0x7f35402c3128>\n",
      "  obj.__ge__ = <method-wrapper '__ge__' of DataItem object at 0x7f35402c3128>\n",
      "  obj.__getattribute__ = <method-wrapper '__getattribute__' of DataItem object at 0x7f35402c3128>\n",
      "  obj.__gt__ = <method-wrapper '__gt__' of DataItem object at 0x7f35402c3128>\n",
      "  obj.__hash__ = <method-wrapper '__hash__' of DataItem object at 0x7f35402c3128>\n",
      "  obj.__init__ = <bound method DataItem.__init__ of <__main__.DataItem object at 0x7f35402c3128>>\n",
      "  obj.__init_subclass__ = <built-in method __init_subclass__ of type object at 0x55d5021c5c98>\n",
      "  obj.__le__ = <method-wrapper '__le__' of DataItem object at 0x7f35402c3128>\n",
      "  obj.__lt__ = <method-wrapper '__lt__' of DataItem object at 0x7f35402c3128>\n",
      "  obj.__module__ = '__main__'\n",
      "  obj.__ne__ = <method-wrapper '__ne__' of DataItem object at 0x7f35402c3128>\n",
      "  obj.__new__ = <built-in method __new__ of type object at 0x55d5013340a0>\n",
      "  obj.__reduce__ = <built-in method __reduce__ of DataItem object at 0x7f35402c3128>\n",
      "  obj.__reduce_ex__ = <built-in method __reduce_ex__ of DataItem object at 0x7f35402c3128>\n",
      "  obj.__repr__ = <method-wrapper '__repr__' of DataItem object at 0x7f35402c3128>\n",
      "  obj.__setattr__ = <method-wrapper '__setattr__' of DataItem object at 0x7f35402c3128>\n",
      "  obj.__sizeof__ = <built-in method __sizeof__ of DataItem object at 0x7f35402c3128>\n",
      "  obj.__str__ = <method-wrapper '__str__' of DataItem object at 0x7f35402c3128>\n",
      "  obj.__subclasshook__ = <built-in method __subclasshook__ of type object at 0x55d5021c5c98>\n",
      "  obj.__weakref__ = None\n",
      "  obj.address = '-'\n",
      "  obj.age = 42\n",
      "  obj.name = 'Alex'\n"
     ]
    }
   ],
   "source": [
    "dump(d1)"
   ]
  },
  {
   "cell_type": "code",
   "execution_count": 13,
   "metadata": {},
   "outputs": [],
   "source": [
    "def get_size(obj, seen=None):\n",
    "    # From \n",
    "    # Recursively finds size of objects\n",
    "    size = sys.getsizeof(obj)\n",
    "    if seen is None:\n",
    "        seen = set()\n",
    "    obj_id = id(obj)\n",
    "    if obj_id in seen:\n",
    "        return 0\n",
    "    # Important mark as seen *before* entering recursion to gracefully handle\n",
    "    # self-referential objects\n",
    "    seen.add(obj_id)\n",
    "    if isinstance(obj, dict):\n",
    "        size += sum([get_size(v, seen) for v in obj.values()])\n",
    "        size += sum([get_size(k, seen) for k in obj.keys()])\n",
    "    elif hasattr(obj, '__dict__'):\n",
    "        size += get_size(obj.__dict__, seen)\n",
    "    elif hasattr(obj, '__iter__') and not isinstance(obj, (str, bytes, bytearray)):\n",
    "        size += sum([get_size(i, seen) for i in obj])\n",
    "    return size"
   ]
  },
  {
   "cell_type": "code",
   "execution_count": 14,
   "metadata": {},
   "outputs": [
    {
     "name": "stdout",
     "output_type": "stream",
     "text": [
      "get_size(d1): 460\n",
      "get_size(d2): 484\n"
     ]
    }
   ],
   "source": [
    "d1 = DataItem(\"Alex\", 42, \"-\")\n",
    "print (\"get_size(d1):\", get_size(d1))\n",
    "d2 = DataItem(\"Boris\", 24, \"In the middle of nowhere\")\n",
    "print (\"get_size(d2):\", get_size(d2))"
   ]
  },
  {
   "cell_type": "code",
   "execution_count": 15,
   "metadata": {},
   "outputs": [
    {
     "data": {
      "text/plain": [
       "532"
      ]
     },
     "execution_count": 15,
     "metadata": {},
     "output_type": "execute_result"
    }
   ],
   "source": [
    "get_size ([d1])"
   ]
  },
  {
   "cell_type": "code",
   "execution_count": 16,
   "metadata": {},
   "outputs": [
    {
     "data": {
      "text/plain": [
       "863"
      ]
     },
     "execution_count": 16,
     "metadata": {},
     "output_type": "execute_result"
    }
   ],
   "source": [
    "get_size ([d1, d2]) "
   ]
  },
  {
   "cell_type": "code",
   "execution_count": 17,
   "metadata": {},
   "outputs": [
    {
     "data": {
      "text/plain": [
       "871"
      ]
     },
     "execution_count": 17,
     "metadata": {},
     "output_type": "execute_result"
    }
   ],
   "source": [
    "get_size ([d1, d2, d1])"
   ]
  },
  {
   "cell_type": "code",
   "execution_count": 18,
   "metadata": {},
   "outputs": [],
   "source": [
    "class DataItem(object):\n",
    "    __slots__ = ['name', 'age', 'address']\n",
    "    def __init__(self, name, age, address):\n",
    "        self.name = name\n",
    "        self.age = age\n",
    "        self.address = address"
   ]
  },
  {
   "cell_type": "code",
   "execution_count": null,
   "metadata": {},
   "outputs": [],
   "source": []
  }
 ],
 "metadata": {
  "kernelspec": {
   "display_name": "Python 3",
   "language": "python",
   "name": "python3"
  },
  "language_info": {
   "codemirror_mode": {
    "name": "ipython",
    "version": 3
   },
   "file_extension": ".py",
   "mimetype": "text/x-python",
   "name": "python",
   "nbconvert_exporter": "python",
   "pygments_lexer": "ipython3",
   "version": "3.6.5"
  }
 },
 "nbformat": 4,
 "nbformat_minor": 2
}
